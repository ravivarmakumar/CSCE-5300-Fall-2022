{
 "cells": [
  {
   "cell_type": "markdown",
   "id": "ed4a4535",
   "metadata": {},
   "source": [
    "# Assignment 6 [KNN Algorithm]\n",
    "\n",
    "* Problem: \n",
    "    A healthcare facility (aka hospital) brought in a new research physician who specializes in treating burn victims. This physician has been tasked with running the hospital’s telemedicine division and is interested in using machine learning to triage patients who schedule appointments with the telemedicine service.  As part of the triage process, patients are instructed to send in photographs of their skin, so that the most in-need patients can be treated first. Naturally, a patient who has received a recent burn would be treated first (a \"true positive\": the patient’s assessment matches with medical facility requirements, see confusion matrix), whereas patients who have lower-level injuries or conditions (such as photodermatitis or eczema) would be triaged away to a different ward (a \"false positive\": the patient’s assessment is not what hospital thinks). \n",
    "\n"
   ]
  },
  {
   "cell_type": "markdown",
   "id": "1367f8c9",
   "metadata": {},
   "source": [
    "* Solution: \n",
    "    You are hired to classify the patients, based on their photographs, as \"burn\" or \"not burn\". Run the KNN algorithm and produce a confusion matrix – a standard tool in data science to assess goodness of a fit (i.e., quantifying how well an algorithm performs on test data).\n",
    "\n"
   ]
  },
  {
   "cell_type": "markdown",
   "id": "be22033b",
   "metadata": {},
   "source": [
    "* In this assignment, you will write KNN based image classification program in python and recommend best value for K that produces highest accuracy. This assignment involves using the entire dataset for calculating optimal K value. For this part, you can try different K values and test its accuracy using one or more of the metrics such as accuracy, confusion matrix, recall, and precision. \n"
   ]
  },
  {
   "cell_type": "markdown",
   "id": "3738bcf4",
   "metadata": {},
   "source": [
    "#### Unzipping the Images Data"
   ]
  },
  {
   "cell_type": "code",
   "execution_count": 1,
   "id": "2b9e50da",
   "metadata": {},
   "outputs": [],
   "source": [
    "#unzipping the data\n",
    "\n",
    "import zipfile\n",
    "with zipfile.ZipFile('/Users/ravivarmakumarbevara/Desktop/Ph.D./CSCE_5300/BurnImages.zip', 'r') as zip_ref:\n",
    "    zip_ref.extractall('/Users/ravivarmakumarbevara/Desktop/Ph.D./CSCE_5300/')"
   ]
  },
  {
   "cell_type": "markdown",
   "id": "da9d914a",
   "metadata": {},
   "source": [
    "#### Importing the Modules"
   ]
  },
  {
   "cell_type": "code",
   "execution_count": 2,
   "id": "04666ab6",
   "metadata": {},
   "outputs": [],
   "source": [
    "#importing the modules\n",
    "\n",
    "import numpy as np\n",
    "import random\n",
    "from PIL import Image\n",
    "from os import listdir\n",
    "from os.path import isfile, join\n",
    "import matplotlib.pyplot as plt\n",
    "from sklearn import metrics\n",
    "from sklearn.neighbors import KNeighborsClassifier\n",
    "from sklearn.preprocessing import LabelEncoder"
   ]
  },
  {
   "cell_type": "code",
   "execution_count": 3,
   "id": "b00e560b",
   "metadata": {},
   "outputs": [],
   "source": [
    "#reading data\n",
    "\n",
    "mypath = '/Users/ravivarmakumarbevara/Desktop/Ph.D./CSCE_5300/BurnImages'\n",
    "files = [f for f in listdir(mypath) if isfile(join(mypath, f))]\n",
    "\n",
    "x = []\n",
    "y = []\n",
    "\n",
    "for file in files:\n",
    "    if file == '.DS_Store':\n",
    "        continue\n",
    "    elif 'i' == file[0]:\n",
    "        y.append('burn')\n",
    "        img = np.array(Image.open(mypath + '/' +file)).mean(axis=(0,1))\n",
    "        x.append((img[0]/(img[0]+img[1]+img[2]),img[1]/(img[0]+img[1]+img[2]),(img[2]/img[0]+img[1]+img[2])))\n",
    "    else:\n",
    "        y.append('notburn')\n",
    "        img = np.array(Image.open(mypath + '/' +file)).mean(axis=(0,1))\n",
    "        x.append((img[0]/(img[0]+img[1]+img[2]),img[1]/(img[0]+img[1]+img[2]),(img[2]/img[0]+img[1]+img[2])))\n",
    "x = np.array(x)"
   ]
  },
  {
   "cell_type": "markdown",
   "id": "96b394c5",
   "metadata": {},
   "source": [
    "## k = 1"
   ]
  },
  {
   "cell_type": "markdown",
   "id": "b96ddb79",
   "metadata": {},
   "source": [
    "#### Model Training "
   ]
  },
  {
   "cell_type": "code",
   "execution_count": 4,
   "id": "325088fd",
   "metadata": {},
   "outputs": [
    {
     "data": {
      "text/plain": [
       "KNeighborsClassifier(n_neighbors=1)"
      ]
     },
     "execution_count": 4,
     "metadata": {},
     "output_type": "execute_result"
    }
   ],
   "source": [
    "# training the model\n",
    "\n",
    "model = KNeighborsClassifier(n_neighbors=1).fit(x,y)\n",
    "model"
   ]
  },
  {
   "cell_type": "code",
   "execution_count": 5,
   "id": "a66f541b",
   "metadata": {},
   "outputs": [],
   "source": [
    "#testing the model\n",
    "\n",
    "testdata = random.sample(files,20)\n",
    "test_x = []\n",
    "test_y = []\n",
    "\n",
    "for file in testdata:\n",
    "    if file == '.DS_Store':\n",
    "        continue\n",
    "    elif 'i' == file[0]:\n",
    "        test_y.append('burn')\n",
    "        img = np.array(Image.open(mypath + '/' +file)).mean(axis=(0,1))\n",
    "        test_x.append((img[0]/(img[0]+img[1]+img[2]),img[1]/(img[0]+img[1]+img[2]),(img[2]/img[0]+img[1]+img[2])))\n",
    "    else:\n",
    "        test_y.append('notburn')\n",
    "        img = np.array(Image.open(mypath + '/' +file)).mean(axis=(0,1))\n",
    "        test_x.append((img[0]/(img[0]+img[1]+img[2]),img[1]/(img[0]+img[1]+img[2]),(img[2]/img[0]+img[1]+img[2])))\n",
    "test_x = np.array(test_x)"
   ]
  },
  {
   "cell_type": "code",
   "execution_count": 6,
   "id": "af585151",
   "metadata": {},
   "outputs": [
    {
     "data": {
      "text/plain": [
       "array(['burn', 'burn', 'burn', 'burn', 'burn', 'burn', 'notburn', 'burn',\n",
       "       'notburn', 'burn', 'burn', 'burn', 'burn', 'burn', 'burn', 'burn',\n",
       "       'burn', 'burn', 'burn'], dtype='<U7')"
      ]
     },
     "execution_count": 6,
     "metadata": {},
     "output_type": "execute_result"
    }
   ],
   "source": [
    "#predictions test\n",
    "\n",
    "predicted_y = model.predict(test_x)\n",
    "predicted_y"
   ]
  },
  {
   "cell_type": "markdown",
   "id": "5a065017",
   "metadata": {},
   "source": [
    "#### Metrics"
   ]
  },
  {
   "cell_type": "code",
   "execution_count": 7,
   "id": "b72d3fd4",
   "metadata": {},
   "outputs": [
    {
     "data": {
      "text/plain": [
       "1.0"
      ]
     },
     "execution_count": 7,
     "metadata": {},
     "output_type": "execute_result"
    }
   ],
   "source": [
    "#metric1 - accuracy score\n",
    "\n",
    "model.score(test_x,test_y)"
   ]
  },
  {
   "cell_type": "code",
   "execution_count": 8,
   "id": "22c3e117",
   "metadata": {},
   "outputs": [
    {
     "data": {
      "image/png": "[encoded data removed]",
      "text/plain": [
       "<Figure size 1440x720 with 2 Axes>"
      ]
     },
     "metadata": {
      "needs_background": "light"
     },
     "output_type": "display_data"
    }
   ],
   "source": [
    "#metric2 - confusion matrix\n",
    "\n",
    "modelconfusionmatrix = metrics.confusion_matrix(test_y, predicted_y, labels = model.classes_)\n",
    "confusionmatriximage = metrics.ConfusionMatrixDisplay(confusion_matrix=modelconfusionmatrix,display_labels=model.classes_)\n",
    "fig, ax = plt.subplots(figsize=(20,10))\n",
    "confusionmatriximage.plot(cmap='Reds',ax=ax)\n",
    "plt.title('Confusion Matrix',size=15)\n",
    "plt.show()"
   ]
  },
  {
   "cell_type": "code",
   "execution_count": 9,
   "id": "f85c342e",
   "metadata": {},
   "outputs": [
    {
     "name": "stdout",
     "output_type": "stream",
     "text": [
      "              precision    recall  f1-score   support\n",
      "\n",
      "        burn       1.00      1.00      1.00        17\n",
      "     notburn       1.00      1.00      1.00         2\n",
      "\n",
      "    accuracy                           1.00        19\n",
      "   macro avg       1.00      1.00      1.00        19\n",
      "weighted avg       1.00      1.00      1.00        19\n",
      "\n"
     ]
    }
   ],
   "source": [
    "#metric3 - classification report\n",
    "\n",
    "modelreport = metrics.classification_report(test_y,predicted_y)\n",
    "print(modelreport)"
   ]
  },
  {
   "cell_type": "code",
   "execution_count": 10,
   "id": "825c4d14",
   "metadata": {},
   "outputs": [],
   "source": [
    "# encoding the labels to 0,1 to calculate roc,  auc curve\n",
    "\n",
    "enc = LabelEncoder()\n",
    "enc.fit(test_y)\n",
    "y_test = enc.transform(test_y)"
   ]
  },
  {
   "cell_type": "code",
   "execution_count": 11,
   "id": "27a084f5",
   "metadata": {},
   "outputs": [
    {
     "data": {
      "image/png": "[encoded data removed]",
      "text/plain": [
       "<Figure size 432x288 with 1 Axes>"
      ]
     },
     "metadata": {
      "needs_background": "light"
     },
     "output_type": "display_data"
    }
   ],
   "source": [
    "#metric4 - roc, auc curve\n",
    "y_scores=model.predict_proba(test_x)\n",
    "\n",
    "fpr,tpr,threshold =metrics.roc_curve(y_test,y_scores[:,1])\n",
    "roc_auc = metrics.auc(fpr, tpr)\n",
    "\n",
    "plt.plot(fpr, tpr,'b', label = 'AUC = %0.2f' % roc_auc)\n",
    "plt.legend(loc = 'lower right')\n",
    "plt.plot([0, 1], [0, 1],'r--')\n",
    "plt.xlim([0, 1])\n",
    "plt.ylim([0, 1])\n",
    "plt.ylabel('True Positive Rate')\n",
    "plt.xlabel('False Positive Rate')\n",
    "plt.title('ROC Curve of kNN')\n",
    "plt.show()"
   ]
  },
  {
   "cell_type": "markdown",
   "id": "9e4df4de",
   "metadata": {},
   "source": [
    "## k = 3"
   ]
  },
  {
   "cell_type": "code",
   "execution_count": 12,
   "id": "33fea493",
   "metadata": {},
   "outputs": [
    {
     "data": {
      "text/plain": [
       "KNeighborsClassifier(n_neighbors=3)"
      ]
     },
     "execution_count": 12,
     "metadata": {},
     "output_type": "execute_result"
    }
   ],
   "source": [
    "# training the model\n",
    "\n",
    "model = KNeighborsClassifier(n_neighbors=3).fit(x,y)\n",
    "model"
   ]
  },
  {
   "cell_type": "code",
   "execution_count": 13,
   "id": "adfd615b",
   "metadata": {},
   "outputs": [],
   "source": [
    "#testing the model\n",
    "\n",
    "testdata = random.sample(files,20)\n",
    "test_x = []\n",
    "test_y = []\n",
    "\n",
    "for file in testdata:\n",
    "    if file == '.DS_Store':\n",
    "        continue\n",
    "    elif 'i' == file[0]:\n",
    "        test_y.append('burn')\n",
    "        img = np.array(Image.open(mypath + '/' +file)).mean(axis=(0,1))\n",
    "        test_x.append((img[0]/(img[0]+img[1]+img[2]),img[1]/(img[0]+img[1]+img[2]),(img[2]/img[0]+img[1]+img[2])))\n",
    "    else:\n",
    "        test_y.append('notburn')\n",
    "        img = np.array(Image.open(mypath + '/' +file)).mean(axis=(0,1))\n",
    "        test_x.append((img[0]/(img[0]+img[1]+img[2]),img[1]/(img[0]+img[1]+img[2]),(img[2]/img[0]+img[1]+img[2])))\n",
    "test_x = np.array(test_x)"
   ]
  },
  {
   "cell_type": "code",
   "execution_count": 14,
   "id": "493b0c0a",
   "metadata": {},
   "outputs": [
    {
     "data": {
      "text/plain": [
       "array(['burn', 'burn', 'burn', 'burn', 'burn', 'notburn', 'burn', 'burn',\n",
       "       'notburn', 'burn', 'burn', 'notburn', 'burn', 'burn', 'burn',\n",
       "       'burn', 'burn', 'burn', 'notburn', 'burn'], dtype='<U7')"
      ]
     },
     "execution_count": 14,
     "metadata": {},
     "output_type": "execute_result"
    }
   ],
   "source": [
    "#predictions test\n",
    "\n",
    "predicted_y = model.predict(test_x)\n",
    "predicted_y"
   ]
  },
  {
   "cell_type": "code",
   "execution_count": 15,
   "id": "b3cf430f",
   "metadata": {},
   "outputs": [
    {
     "data": {
      "text/plain": [
       "0.9"
      ]
     },
     "execution_count": 15,
     "metadata": {},
     "output_type": "execute_result"
    }
   ],
   "source": [
    "#metric1 - accuracy score\n",
    "\n",
    "model.score(test_x,test_y)"
   ]
  },
  {
   "cell_type": "code",
   "execution_count": 16,
   "id": "0633cdeb",
   "metadata": {},
   "outputs": [
    {
     "data": {
      "image/png": "[encoded data removed]",
      "text/plain": [
       "<Figure size 1440x720 with 2 Axes>"
      ]
     },
     "metadata": {
      "needs_background": "light"
     },
     "output_type": "display_data"
    }
   ],
   "source": [
    "#metric2 - confusion matrix\n",
    "\n",
    "modelconfusionmatrix = metrics.confusion_matrix(test_y, predicted_y, labels = model.classes_)\n",
    "confusionmatriximage = metrics.ConfusionMatrixDisplay(confusion_matrix=modelconfusionmatrix,display_labels=model.classes_)\n",
    "fig, ax = plt.subplots(figsize=(20,10))\n",
    "confusionmatriximage.plot(cmap='Reds',ax=ax)\n",
    "plt.title('Confusion Matrix',size=15)\n",
    "plt.show()"
   ]
  },
  {
   "cell_type": "code",
   "execution_count": 17,
   "id": "469973cb",
   "metadata": {},
   "outputs": [
    {
     "name": "stdout",
     "output_type": "stream",
     "text": [
      "              precision    recall  f1-score   support\n",
      "\n",
      "        burn       0.94      0.94      0.94        16\n",
      "     notburn       0.75      0.75      0.75         4\n",
      "\n",
      "    accuracy                           0.90        20\n",
      "   macro avg       0.84      0.84      0.84        20\n",
      "weighted avg       0.90      0.90      0.90        20\n",
      "\n"
     ]
    }
   ],
   "source": [
    "#metric3 - classification report\n",
    "\n",
    "modelreport = metrics.classification_report(test_y,predicted_y)\n",
    "print(modelreport)"
   ]
  },
  {
   "cell_type": "code",
   "execution_count": 18,
   "id": "9912b206",
   "metadata": {},
   "outputs": [],
   "source": [
    "# encoding the labels to 0,1\n",
    "\n",
    "enc = LabelEncoder()\n",
    "enc.fit(test_y)\n",
    "y_test = enc.transform(test_y)"
   ]
  },
  {
   "cell_type": "code",
   "execution_count": 19,
   "id": "108ce04e",
   "metadata": {},
   "outputs": [
    {
     "data": {
      "image/png": "[encoded data removed]",
      "text/plain": [
       "<Figure size 432x288 with 1 Axes>"
      ]
     },
     "metadata": {
      "needs_background": "light"
     },
     "output_type": "display_data"
    }
   ],
   "source": [
    "#metric4 - roc, auc curve\n",
    "y_scores=model.predict_proba(test_x)\n",
    "\n",
    "fpr,tpr,threshold =metrics.roc_curve(y_test,y_scores[:,1])\n",
    "roc_auc = metrics.auc(fpr, tpr)\n",
    "\n",
    "plt.plot(fpr, tpr,'b', label = 'AUC = %0.2f' % roc_auc)\n",
    "plt.legend(loc = 'lower right')\n",
    "plt.plot([0, 1], [0, 1],'r--')\n",
    "plt.xlim([0, 1])\n",
    "plt.ylim([0, 1])\n",
    "plt.ylabel('True Positive Rate')\n",
    "plt.xlabel('False Positive Rate')\n",
    "plt.title('ROC Curve of kNN')\n",
    "plt.show()"
   ]
  },
  {
   "cell_type": "markdown",
   "id": "fbc4d833",
   "metadata": {},
   "source": [
    "## k = 5"
   ]
  },
  {
   "cell_type": "code",
   "execution_count": 20,
   "id": "8eee45ff",
   "metadata": {},
   "outputs": [
    {
     "data": {
      "text/plain": [
       "KNeighborsClassifier()"
      ]
     },
     "execution_count": 20,
     "metadata": {},
     "output_type": "execute_result"
    }
   ],
   "source": [
    "# training the model\n",
    "\n",
    "model = KNeighborsClassifier(n_neighbors=5).fit(x,y)\n",
    "model"
   ]
  },
  {
   "cell_type": "code",
   "execution_count": 21,
   "id": "623a36aa",
   "metadata": {},
   "outputs": [],
   "source": [
    "#testing the model\n",
    "\n",
    "testdata = random.sample(files,20)\n",
    "test_x = []\n",
    "test_y = []\n",
    "\n",
    "for file in testdata:\n",
    "    if file == '.DS_Store':\n",
    "        continue\n",
    "    elif 'i' == file[0]:\n",
    "        test_y.append('burn')\n",
    "        img = np.array(Image.open(mypath + '/' +file)).mean(axis=(0,1))\n",
    "        test_x.append((img[0]/(img[0]+img[1]+img[2]),img[1]/(img[0]+img[1]+img[2]),(img[2]/img[0]+img[1]+img[2])))\n",
    "    else:\n",
    "        test_y.append('notburn')\n",
    "        img = np.array(Image.open(mypath + '/' +file)).mean(axis=(0,1))\n",
    "        test_x.append((img[0]/(img[0]+img[1]+img[2]),img[1]/(img[0]+img[1]+img[2]),(img[2]/img[0]+img[1]+img[2])))\n",
    "test_x = np.array(test_x)"
   ]
  },
  {
   "cell_type": "code",
   "execution_count": 22,
   "id": "37aea50f",
   "metadata": {},
   "outputs": [
    {
     "data": {
      "text/plain": [
       "array(['notburn', 'burn', 'burn', 'notburn', 'burn', 'notburn', 'burn',\n",
       "       'burn', 'burn', 'burn', 'burn', 'burn', 'burn', 'burn', 'burn',\n",
       "       'burn', 'burn', 'burn', 'burn', 'burn'], dtype='<U7')"
      ]
     },
     "execution_count": 22,
     "metadata": {},
     "output_type": "execute_result"
    }
   ],
   "source": [
    "#predictions test\n",
    "\n",
    "predicted_y = model.predict(test_x)\n",
    "predicted_y"
   ]
  },
  {
   "cell_type": "code",
   "execution_count": 23,
   "id": "fe031b1d",
   "metadata": {},
   "outputs": [
    {
     "data": {
      "text/plain": [
       "0.95"
      ]
     },
     "execution_count": 23,
     "metadata": {},
     "output_type": "execute_result"
    }
   ],
   "source": [
    "#metric1 - accuracy score\n",
    "\n",
    "model.score(test_x,test_y)"
   ]
  },
  {
   "cell_type": "code",
   "execution_count": 24,
   "id": "c0c6ddf7",
   "metadata": {},
   "outputs": [
    {
     "data": {
      "image/png": "[encoded data removed]",
      "text/plain": [
       "<Figure size 1440x720 with 2 Axes>"
      ]
     },
     "metadata": {
      "needs_background": "light"
     },
     "output_type": "display_data"
    }
   ],
   "source": [
    "#metric2 - confusion matrix\n",
    "\n",
    "modelconfusionmatrix = metrics.confusion_matrix(test_y, predicted_y, labels = model.classes_)\n",
    "confusionmatriximage = metrics.ConfusionMatrixDisplay(confusion_matrix=modelconfusionmatrix,display_labels=model.classes_)\n",
    "fig, ax = plt.subplots(figsize=(20,10))\n",
    "confusionmatriximage.plot(cmap='Reds',ax=ax)\n",
    "plt.title('Confusion Matrix',size=15)\n",
    "plt.show()"
   ]
  },
  {
   "cell_type": "code",
   "execution_count": 25,
   "id": "1a5a8065",
   "metadata": {},
   "outputs": [
    {
     "name": "stdout",
     "output_type": "stream",
     "text": [
      "              precision    recall  f1-score   support\n",
      "\n",
      "        burn       1.00      0.94      0.97        18\n",
      "     notburn       0.67      1.00      0.80         2\n",
      "\n",
      "    accuracy                           0.95        20\n",
      "   macro avg       0.83      0.97      0.89        20\n",
      "weighted avg       0.97      0.95      0.95        20\n",
      "\n"
     ]
    }
   ],
   "source": [
    "#metric3 - classification report\n",
    "\n",
    "modelreport = metrics.classification_report(test_y,predicted_y)\n",
    "print(modelreport)"
   ]
  },
  {
   "cell_type": "code",
   "execution_count": 26,
   "id": "8746b6c3",
   "metadata": {},
   "outputs": [],
   "source": [
    "# encoding the labels to 0,1\n",
    "\n",
    "enc = LabelEncoder()\n",
    "enc.fit(test_y)\n",
    "y_test = enc.transform(test_y)"
   ]
  },
  {
   "cell_type": "code",
   "execution_count": 27,
   "id": "a016f843",
   "metadata": {},
   "outputs": [
    {
     "data": {
      "image/png": "[encoded data removed]",
      "text/plain": [
       "<Figure size 432x288 with 1 Axes>"
      ]
     },
     "metadata": {
      "needs_background": "light"
     },
     "output_type": "display_data"
    }
   ],
   "source": [
    "#metric4 - roc, auc curve\n",
    "y_scores=model.predict_proba(test_x)\n",
    "\n",
    "fpr,tpr,threshold =metrics.roc_curve(y_test,y_scores[:,1])\n",
    "roc_auc = metrics.auc(fpr, tpr)\n",
    "\n",
    "plt.plot(fpr, tpr,'b', label = 'AUC = %0.2f' % roc_auc)\n",
    "plt.legend(loc = 'lower right')\n",
    "plt.plot([0, 1], [0, 1],'r--')\n",
    "plt.xlim([0, 1])\n",
    "plt.ylim([0, 1])\n",
    "plt.ylabel('True Positive Rate')\n",
    "plt.xlabel('False Positive Rate')\n",
    "plt.title('ROC Curve of kNN')\n",
    "plt.show()"
   ]
  },
  {
   "cell_type": "markdown",
   "id": "e99d9aba",
   "metadata": {},
   "source": [
    "#### Finding Best Accuracy K-Value"
   ]
  },
  {
   "cell_type": "code",
   "execution_count": 28,
   "id": "3a2e6343",
   "metadata": {},
   "outputs": [
    {
     "data": {
      "image/png": "[encoded data removed]",
      "text/plain": [
       "<Figure size 720x432 with 1 Axes>"
      ]
     },
     "metadata": {
      "needs_background": "light"
     },
     "output_type": "display_data"
    }
   ],
   "source": [
    "scores = []\n",
    "\n",
    "for i in range(1,30):\n",
    "    model = KNeighborsClassifier(i)\n",
    "    model.fit(x,y)\n",
    "    pred_y = model.predict(test_x)\n",
    "    score = metrics.accuracy_score(test_y,pred_y,normalize=True)*float(100)\n",
    "    scores.append(score)\n",
    "    \n",
    "plt.figure(figsize=(10,6))\n",
    "plt.plot(range(1,30),scores,marker='*',markersize=10,markerfacecolor='cyan')\n",
    "plt.ylabel('Accuracy of the Model')\n",
    "plt.xlabel('K-Value')\n",
    "plt.show()"
   ]
  },
  {
   "cell_type": "markdown",
   "id": "f7a95385",
   "metadata": {},
   "source": [
    "#### Cross Validation for Optimal K-Value"
   ]
  },
  {
   "cell_type": "code",
   "execution_count": 29,
   "id": "6651f713",
   "metadata": {},
   "outputs": [
    {
     "data": {
      "image/png": "[encoded data removed]",
      "text/plain": [
       "<Figure size 720x432 with 1 Axes>"
      ]
     },
     "metadata": {
      "needs_background": "light"
     },
     "output_type": "display_data"
    }
   ],
   "source": [
    "from sklearn.model_selection import cross_val_score\n",
    "\n",
    "optimal_kvalues = list(range(1,15,3))\n",
    "cvScores = []\n",
    "\n",
    "for i in optimal_kvalues:\n",
    "    model = KNeighborsClassifier(i)\n",
    "    scores = cross_val_score(model,x,y,cv=8,scoring='accuracy')\n",
    "    cvScores.append(scores.mean())\n",
    "\n",
    "error = [1-x for x in cvScores]\n",
    "\n",
    "plt.figure(figsize=(10,6))\n",
    "plt.plot(range(1,15,3),error,marker='*',markersize=10,markerfacecolor='red')\n",
    "plt.xlabel('K-Value')\n",
    "plt.ylabel('Missclassification error')\n",
    "plt.show()"
   ]
  },
  {
   "cell_type": "markdown",
   "id": "afc18271",
   "metadata": {},
   "source": [
    "## k = 7"
   ]
  },
  {
   "cell_type": "code",
   "execution_count": 30,
   "id": "cebdea48",
   "metadata": {},
   "outputs": [
    {
     "data": {
      "text/plain": [
       "KNeighborsClassifier(n_neighbors=7)"
      ]
     },
     "execution_count": 30,
     "metadata": {},
     "output_type": "execute_result"
    }
   ],
   "source": [
    "# training the model\n",
    "\n",
    "model = KNeighborsClassifier(n_neighbors=7).fit(x,y)\n",
    "model"
   ]
  },
  {
   "cell_type": "code",
   "execution_count": 31,
   "id": "4c5d946f",
   "metadata": {},
   "outputs": [],
   "source": [
    "#testing the model\n",
    "\n",
    "testdata = random.sample(files,20)\n",
    "test_x = []\n",
    "test_y = []\n",
    "\n",
    "for file in testdata:\n",
    "    if file == '.DS_Store':\n",
    "        continue\n",
    "    elif 'i' == file[0]:\n",
    "        test_y.append('burn')\n",
    "        img = np.array(Image.open(mypath + '/' +file)).mean(axis=(0,1))\n",
    "        test_x.append((img[0]/(img[0]+img[1]+img[2]),img[1]/(img[0]+img[1]+img[2]),(img[2]/img[0]+img[1]+img[2])))\n",
    "    else:\n",
    "        test_y.append('notburn')\n",
    "        img = np.array(Image.open(mypath + '/' +file)).mean(axis=(0,1))\n",
    "        test_x.append((img[0]/(img[0]+img[1]+img[2]),img[1]/(img[0]+img[1]+img[2]),(img[2]/img[0]+img[1]+img[2])))\n",
    "test_x = np.array(test_x)"
   ]
  },
  {
   "cell_type": "code",
   "execution_count": 32,
   "id": "2f54dac7",
   "metadata": {},
   "outputs": [
    {
     "data": {
      "text/plain": [
       "array(['burn', 'burn', 'burn', 'burn', 'notburn', 'burn', 'burn', 'burn',\n",
       "       'notburn', 'burn', 'burn', 'burn', 'notburn', 'burn', 'burn',\n",
       "       'burn', 'burn', 'burn', 'burn', 'burn'], dtype='<U7')"
      ]
     },
     "execution_count": 32,
     "metadata": {},
     "output_type": "execute_result"
    }
   ],
   "source": [
    "#predictions test\n",
    "\n",
    "predicted_y = model.predict(test_x)\n",
    "predicted_y"
   ]
  },
  {
   "cell_type": "code",
   "execution_count": 33,
   "id": "9f6d7304",
   "metadata": {},
   "outputs": [
    {
     "data": {
      "text/plain": [
       "0.85"
      ]
     },
     "execution_count": 33,
     "metadata": {},
     "output_type": "execute_result"
    }
   ],
   "source": [
    "#metric1 - accuracy score\n",
    "\n",
    "model.score(test_x,test_y)"
   ]
  },
  {
   "cell_type": "code",
   "execution_count": 34,
   "id": "89555db0",
   "metadata": {},
   "outputs": [
    {
     "data": {
      "image/png": "[encoded data removed]",
      "text/plain": [
       "<Figure size 1440x720 with 2 Axes>"
      ]
     },
     "metadata": {
      "needs_background": "light"
     },
     "output_type": "display_data"
    }
   ],
   "source": [
    "#metric2 - confusion matrix\n",
    "\n",
    "modelconfusionmatrix = metrics.confusion_matrix(test_y, predicted_y, labels = model.classes_)\n",
    "confusionmatriximage = metrics.ConfusionMatrixDisplay(confusion_matrix=modelconfusionmatrix,display_labels=model.classes_)\n",
    "fig, ax = plt.subplots(figsize=(20,10))\n",
    "confusionmatriximage.plot(cmap='Reds',ax=ax)\n",
    "plt.title('Confusion Matrix',size=15)\n",
    "plt.show()"
   ]
  },
  {
   "cell_type": "code",
   "execution_count": 35,
   "id": "6a540f80",
   "metadata": {},
   "outputs": [
    {
     "name": "stdout",
     "output_type": "stream",
     "text": [
      "              precision    recall  f1-score   support\n",
      "\n",
      "        burn       0.88      0.94      0.91        16\n",
      "     notburn       0.67      0.50      0.57         4\n",
      "\n",
      "    accuracy                           0.85        20\n",
      "   macro avg       0.77      0.72      0.74        20\n",
      "weighted avg       0.84      0.85      0.84        20\n",
      "\n"
     ]
    }
   ],
   "source": [
    "#metric3 - classification report\n",
    "\n",
    "modelreport = metrics.classification_report(test_y,predicted_y)\n",
    "print(modelreport)"
   ]
  },
  {
   "cell_type": "code",
   "execution_count": 36,
   "id": "a7a76e1d",
   "metadata": {},
   "outputs": [],
   "source": [
    "# encoding the labels to 0,1\n",
    "\n",
    "enc = LabelEncoder()\n",
    "enc.fit(test_y)\n",
    "y_test = enc.transform(test_y)"
   ]
  },
  {
   "cell_type": "code",
   "execution_count": 37,
   "id": "1934e9ab",
   "metadata": {},
   "outputs": [
    {
     "data": {
      "image/png": "[encoded data removed]",
      "text/plain": [
       "<Figure size 432x288 with 1 Axes>"
      ]
     },
     "metadata": {
      "needs_background": "light"
     },
     "output_type": "display_data"
    }
   ],
   "source": [
    "#metric4 - roc, auc curve\n",
    "y_scores=model.predict_proba(test_x)\n",
    "\n",
    "fpr,tpr,threshold =metrics.roc_curve(y_test,y_scores[:,1])\n",
    "roc_auc = metrics.auc(fpr, tpr)\n",
    "\n",
    "plt.plot(fpr, tpr,'b', label = 'AUC = %0.2f' % roc_auc)\n",
    "plt.legend(loc = 'lower right')\n",
    "plt.plot([0, 1], [0, 1],'r--')\n",
    "plt.xlim([0, 1])\n",
    "plt.ylim([0, 1])\n",
    "plt.ylabel('True Positive Rate')\n",
    "plt.xlabel('False Positive Rate')\n",
    "plt.title('ROC Curve of kNN')\n",
    "plt.show()"
   ]
  },
  {
   "cell_type": "markdown",
   "id": "db1c9d75",
   "metadata": {},
   "source": [
    "#### So, k=7 is the optimal choice as it is achieving better accuracy along with best misclassification rate."
   ]
  }
 ],
 "metadata": {
  "kernelspec": {
   "display_name": "Python 3 (ipykernel)",
   "language": "python",
   "name": "python3"
  },
  "language_info": {
   "codemirror_mode": {
    "name": "ipython",
    "version": 3
   },
   "file_extension": ".py",
   "mimetype": "text/x-python",
   "name": "python",
   "nbconvert_exporter": "python",
   "pygments_lexer": "ipython3",
   "version": "3.9.12"
  }
 },
 "nbformat": 4,
 "nbformat_minor": 5
}
