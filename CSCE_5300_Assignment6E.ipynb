{
 "cells": [
  {
   "cell_type": "markdown",
   "id": "ed4a4535",
   "metadata": {},
   "source": [
    "# Assignment 6E [KNN Algorithm]\n",
    "\n",
    "* Problem: \n",
    "    A healthcare facility (aka hospital) brought in a new research physician who specializes in treating burn victims. This physician has been tasked with running the hospital’s telemedicine division and is interested in using machine learning to triage patients who schedule appointments with the telemedicine service.  As part of the triage process, patients are instructed to send in photographs of their skin, so that the most in-need patients can be treated first. Naturally, a patient who has received a recent burn would be treated first (a \"true positive\": the patient’s assessment matches with medical facility requirements, see confusion matrix), whereas patients who have lower-level injuries or conditions (such as photodermatitis or eczema) would be triaged away to a different ward (a \"false positive\": the patient’s assessment is not what hospital thinks). \n",
    "\n"
   ]
  },
  {
   "cell_type": "markdown",
   "id": "1367f8c9",
   "metadata": {},
   "source": [
    "* Solution: \n",
    "    You are hired to classify the patients, based on their photographs, as \"burn\" or \"not burn\". Run the KNN algorithm and produce a confusion matrix – a standard tool in data science to assess goodness of a fit (i.e., quantifying how well an algorithm performs on test data).\n",
    "\n"
   ]
  },
  {
   "cell_type": "markdown",
   "id": "be22033b",
   "metadata": {},
   "source": [
    "* In this assignment, you will write KNN based image classification program in python and recommend best value for K that produces highest accuracy. This assignment involves using the entire dataset for calculating optimal K value. For this part, you can try different K values and test its accuracy using one or more of the metrics such as accuracy, confusion matrix, recall, and precision. \n"
   ]
  },
  {
   "cell_type": "markdown",
   "id": "3738bcf4",
   "metadata": {},
   "source": [
    "#### Unzipping the Images Data"
   ]
  },
  {
   "cell_type": "code",
   "execution_count": 80,
   "id": "2b9e50da",
   "metadata": {},
   "outputs": [],
   "source": [
    "#unzipping the data\n",
    "\n",
    "import zipfile\n",
    "with zipfile.ZipFile('/Users/ravivarmakumarbevara/Desktop/Ph.D./CSCE_5300/BurnImages.zip', 'r') as zip_ref:\n",
    "    zip_ref.extractall('/Users/ravivarmakumarbevara/Desktop/Ph.D./CSCE_5300/')"
   ]
  },
  {
   "cell_type": "markdown",
   "id": "da9d914a",
   "metadata": {},
   "source": [
    "#### Importing the Modules"
   ]
  },
  {
   "cell_type": "code",
   "execution_count": 81,
   "id": "04666ab6",
   "metadata": {},
   "outputs": [],
   "source": [
    "#importing the modules\n",
    "\n",
    "import numpy as np\n",
    "import random\n",
    "from PIL import Image\n",
    "from os import listdir\n",
    "from os.path import isfile, join\n",
    "import matplotlib.pyplot as plt\n",
    "from sklearn import metrics\n",
    "from sklearn.neighbors import KNeighborsClassifier\n",
    "from sklearn.linear_model import LogisticRegression\n",
    "from sklearn.model_selection import train_test_split\n",
    "from sklearn.preprocessing import LabelEncoder"
   ]
  },
  {
   "cell_type": "code",
   "execution_count": 82,
   "id": "b00e560b",
   "metadata": {},
   "outputs": [],
   "source": [
    "#reading data\n",
    "\n",
    "mypath = '/Users/ravivarmakumarbevara/Desktop/Ph.D./CSCE_5300/BurnImages'\n",
    "files = [f for f in listdir(mypath) if isfile(join(mypath, f))]\n",
    "\n",
    "x = []\n",
    "y = []\n",
    "\n",
    "for file in files:\n",
    "    if file == '.DS_Store':\n",
    "        continue\n",
    "    elif 'i' == file[0]:\n",
    "        y.append('burn')\n",
    "        img = np.array(Image.open(mypath + '/' +file)).mean(axis=(0,1))\n",
    "        x.append((img[0]/(img[0]+img[1]+img[2]),img[1]/(img[0]+img[1]+img[2]),(img[2]/img[0]+img[1]+img[2])))\n",
    "    else:\n",
    "        y.append('notburn')\n",
    "        img = np.array(Image.open(mypath + '/' +file)).mean(axis=(0,1))\n",
    "        x.append((img[0]/(img[0]+img[1]+img[2]),img[1]/(img[0]+img[1]+img[2]),(img[2]/img[0]+img[1]+img[2])))\n",
    "x = np.array(x)"
   ]
  },
  {
   "cell_type": "markdown",
   "id": "f306c518",
   "metadata": {},
   "source": [
    "#### Best Parameters for Logistic Regression"
   ]
  },
  {
   "cell_type": "code",
   "execution_count": 83,
   "id": "be70ae64",
   "metadata": {},
   "outputs": [
    {
     "name": "stdout",
     "output_type": "stream",
     "text": [
      "Tuned Hyperparameters : {'C': 0.001, 'penalty': 'l2', 'solver': 'newton-cg'}\n"
     ]
    }
   ],
   "source": [
    "import warnings\n",
    "from sklearn.model_selection import GridSearchCV \n",
    "warnings.filterwarnings('ignore')\n",
    "\n",
    "parameters = {'penalty': ['l1','l2'], \n",
    "              'C': np.logspace(-3,3,7), \n",
    "              'solver': ['newton-cg', 'lbfgs', 'liblinear']}\n",
    "logreg = LogisticRegression(max_iter=10000,n_jobs=-1)\n",
    "clf = GridSearchCV(logreg,                    # model\n",
    "                   param_grid = parameters,   # hyperparameters\n",
    "                   scoring='accuracy',        # metric for scoring\n",
    "                   cv=10)\n",
    "clf.fit(x,y)\n",
    "print(\"Tuned Hyperparameters :\", clf.best_params_)"
   ]
  },
  {
   "cell_type": "markdown",
   "id": "6dfdbaa1",
   "metadata": {},
   "source": [
    "## 75/25"
   ]
  },
  {
   "cell_type": "code",
   "execution_count": 84,
   "id": "1d1285b3",
   "metadata": {},
   "outputs": [],
   "source": [
    "#splitting the data\n",
    "x_train, x_test, y_train, y_test = train_test_split(x, y, test_size=0.25, random_state=42)"
   ]
  },
  {
   "cell_type": "code",
   "execution_count": 85,
   "id": "8f3147f6",
   "metadata": {},
   "outputs": [
    {
     "data": {
      "text/plain": [
       "LogisticRegression(C=0.001, max_iter=10000, solver='newton-cg')"
      ]
     },
     "execution_count": 85,
     "metadata": {},
     "output_type": "execute_result"
    }
   ],
   "source": [
    "#model training\n",
    "logisticregressionmodel = LogisticRegression(solver='newton-cg',max_iter=10000,C=0.001,penalty='l2')\n",
    "logisticregressionmodel.fit(x_train, y_train)"
   ]
  },
  {
   "cell_type": "code",
   "execution_count": 86,
   "id": "803280f9",
   "metadata": {},
   "outputs": [],
   "source": [
    "#predictions test\n",
    "predicted_y = logisticregressionmodel.predict(x_test)"
   ]
  },
  {
   "cell_type": "code",
   "execution_count": 87,
   "id": "9b573405",
   "metadata": {},
   "outputs": [
    {
     "data": {
      "text/plain": [
       "0.9090909090909091"
      ]
     },
     "execution_count": 87,
     "metadata": {},
     "output_type": "execute_result"
    }
   ],
   "source": [
    "#metric1 - accuracy score\n",
    "logisticregressionmodel.score(x_test,y_test)"
   ]
  },
  {
   "cell_type": "code",
   "execution_count": 88,
   "id": "8f828dcd",
   "metadata": {},
   "outputs": [
    {
     "data": {
      "image/png": "[encoded data removed]",
      "text/plain": [
       "<Figure size 720x360 with 2 Axes>"
      ]
     },
     "metadata": {
      "needs_background": "light"
     },
     "output_type": "display_data"
    }
   ],
   "source": [
    "#metric2 - confusion matrix\n",
    "model1confusionmatrix = metrics.confusion_matrix(y_test, predicted_y, labels = logisticregressionmodel.classes_)\n",
    "confusionmatriximage = metrics.ConfusionMatrixDisplay(confusion_matrix=model1confusionmatrix,display_labels=logisticregressionmodel.classes_)\n",
    "fig, ax = plt.subplots(figsize=(10,5))\n",
    "confusionmatriximage.plot(cmap='Reds',ax=ax)\n",
    "plt.title('Confusion Matrix',size=15)\n",
    "plt.show()"
   ]
  },
  {
   "cell_type": "code",
   "execution_count": 89,
   "id": "5c485d9e",
   "metadata": {},
   "outputs": [
    {
     "name": "stdout",
     "output_type": "stream",
     "text": [
      "              precision    recall  f1-score   support\n",
      "\n",
      "        burn       0.91      1.00      0.95        20\n",
      "     notburn       0.00      0.00      0.00         2\n",
      "\n",
      "    accuracy                           0.91        22\n",
      "   macro avg       0.45      0.50      0.48        22\n",
      "weighted avg       0.83      0.91      0.87        22\n",
      "\n"
     ]
    }
   ],
   "source": [
    "#metric4 - classification report\n",
    "model1report = metrics.classification_report(y_test,predicted_y)\n",
    "print(model1report)"
   ]
  },
  {
   "cell_type": "code",
   "execution_count": 90,
   "id": "825c4d14",
   "metadata": {},
   "outputs": [],
   "source": [
    "# encoding the labels to 0,1 to calculate roc,  auc curve\n",
    "\n",
    "enc = LabelEncoder()\n",
    "enc.fit(y_test)\n",
    "y_test = enc.transform(y_test)"
   ]
  },
  {
   "cell_type": "code",
   "execution_count": 91,
   "id": "27a084f5",
   "metadata": {},
   "outputs": [
    {
     "data": {
      "image/png": "[encoded data removed]",
      "text/plain": [
       "<Figure size 432x288 with 1 Axes>"
      ]
     },
     "metadata": {
      "needs_background": "light"
     },
     "output_type": "display_data"
    }
   ],
   "source": [
    "#metric4 - roc, auc curve\n",
    "y_scores=logisticregressionmodel.predict_proba(x_test)\n",
    "\n",
    "fpr,tpr,threshold =metrics.roc_curve(y_test,y_scores[:,1])\n",
    "roc_auc = metrics.auc(fpr, tpr)\n",
    "\n",
    "plt.plot(fpr, tpr,'b', label = 'AUC = %0.2f' % roc_auc)\n",
    "plt.legend(loc = 'lower right')\n",
    "plt.plot([0, 1], [0, 1],'r--')\n",
    "plt.xlim([0, 1])\n",
    "plt.ylim([0, 1])\n",
    "plt.ylabel('True Positive Rate')\n",
    "plt.xlabel('False Positive Rate')\n",
    "plt.title('ROC Curve of kNN')\n",
    "plt.show()"
   ]
  },
  {
   "cell_type": "markdown",
   "id": "e4b6da2c",
   "metadata": {},
   "source": [
    "## 70/30"
   ]
  },
  {
   "cell_type": "code",
   "execution_count": 100,
   "id": "e2026b33",
   "metadata": {},
   "outputs": [],
   "source": [
    "#splitting the data\n",
    "x_train, x_test, y_train, y_test = train_test_split(x, y, test_size=0.30, random_state=42)"
   ]
  },
  {
   "cell_type": "code",
   "execution_count": 101,
   "id": "265ea99f",
   "metadata": {},
   "outputs": [
    {
     "data": {
      "text/plain": [
       "LogisticRegression(C=0.001, max_iter=10000, solver='newton-cg')"
      ]
     },
     "execution_count": 101,
     "metadata": {},
     "output_type": "execute_result"
    }
   ],
   "source": [
    "#model training\n",
    "logisticregressionmodel = LogisticRegression(solver='newton-cg',max_iter=10000,C=0.001,penalty='l2')\n",
    "logisticregressionmodel.fit(x_train, y_train)"
   ]
  },
  {
   "cell_type": "code",
   "execution_count": 102,
   "id": "87df948b",
   "metadata": {},
   "outputs": [],
   "source": [
    "#predictions test\n",
    "predicted_y = logisticregressionmodel.predict(x_test)"
   ]
  },
  {
   "cell_type": "code",
   "execution_count": 103,
   "id": "888ad7ef",
   "metadata": {},
   "outputs": [
    {
     "data": {
      "text/plain": [
       "0.8888888888888888"
      ]
     },
     "execution_count": 103,
     "metadata": {},
     "output_type": "execute_result"
    }
   ],
   "source": [
    "#metric1 - accuracy score\n",
    "logisticregressionmodel.score(x_test,y_test)"
   ]
  },
  {
   "cell_type": "code",
   "execution_count": 104,
   "id": "137f92db",
   "metadata": {},
   "outputs": [
    {
     "data": {
      "image/png": "[encoded data removed]",
      "text/plain": [
       "<Figure size 720x360 with 2 Axes>"
      ]
     },
     "metadata": {
      "needs_background": "light"
     },
     "output_type": "display_data"
    }
   ],
   "source": [
    "#metric2 - confusion matrix\n",
    "model1confusionmatrix = metrics.confusion_matrix(y_test, predicted_y, labels = logisticregressionmodel.classes_)\n",
    "confusionmatriximage = metrics.ConfusionMatrixDisplay(confusion_matrix=model1confusionmatrix,display_labels=logisticregressionmodel.classes_)\n",
    "fig, ax = plt.subplots(figsize=(10,5))\n",
    "confusionmatriximage.plot(cmap='Reds',ax=ax)\n",
    "plt.title('Confusion Matrix',size=15)\n",
    "plt.show()"
   ]
  },
  {
   "cell_type": "code",
   "execution_count": 105,
   "id": "0603ef4f",
   "metadata": {},
   "outputs": [
    {
     "name": "stdout",
     "output_type": "stream",
     "text": [
      "              precision    recall  f1-score   support\n",
      "\n",
      "        burn       0.91      1.00      0.95        20\n",
      "     notburn       0.00      0.00      0.00         2\n",
      "\n",
      "    accuracy                           0.91        22\n",
      "   macro avg       0.45      0.50      0.48        22\n",
      "weighted avg       0.83      0.91      0.87        22\n",
      "\n"
     ]
    }
   ],
   "source": [
    "modelreport = metrics.classification_report(y_test,predicted_y)\n",
    "print(model1report)"
   ]
  },
  {
   "cell_type": "code",
   "execution_count": 106,
   "id": "589c0aa1",
   "metadata": {},
   "outputs": [],
   "source": [
    "# encoding the labels to 0,1 to calculate roc,  auc curve\n",
    "\n",
    "enc = LabelEncoder()\n",
    "enc.fit(y_test)\n",
    "y_test = enc.transform(y_test)"
   ]
  },
  {
   "cell_type": "code",
   "execution_count": 107,
   "id": "e792a6c3",
   "metadata": {},
   "outputs": [
    {
     "data": {
      "image/png": "[encoded data removed]",
      "text/plain": [
       "<Figure size 432x288 with 1 Axes>"
      ]
     },
     "metadata": {
      "needs_background": "light"
     },
     "output_type": "display_data"
    }
   ],
   "source": [
    "#metric4 - roc, auc curve\n",
    "y_scores=logisticregressionmodel.predict_proba(x_test)\n",
    "\n",
    "fpr,tpr,threshold =metrics.roc_curve(y_test,y_scores[:,1])\n",
    "roc_auc = metrics.auc(fpr, tpr)\n",
    "\n",
    "plt.plot(fpr, tpr,'b', label = 'AUC = %0.2f' % roc_auc)\n",
    "plt.legend(loc = 'lower right')\n",
    "plt.plot([0, 1], [0, 1],'r--')\n",
    "plt.xlim([0, 1])\n",
    "plt.ylim([0, 1])\n",
    "plt.ylabel('True Positive Rate')\n",
    "plt.xlabel('False Positive Rate')\n",
    "plt.title('ROC Curve of kNN')\n",
    "plt.show()"
   ]
  },
  {
   "cell_type": "markdown",
   "id": "bde4c499",
   "metadata": {},
   "source": [
    "## 80/20"
   ]
  },
  {
   "cell_type": "code",
   "execution_count": 108,
   "id": "63fe56c3",
   "metadata": {},
   "outputs": [],
   "source": [
    "#splitting the data\n",
    "x_train, x_test, y_train, y_test = train_test_split(x, y, test_size=0.20, random_state=42)"
   ]
  },
  {
   "cell_type": "code",
   "execution_count": 109,
   "id": "d378aa82",
   "metadata": {},
   "outputs": [
    {
     "data": {
      "text/plain": [
       "LogisticRegression(C=0.001, max_iter=10000, solver='newton-cg')"
      ]
     },
     "execution_count": 109,
     "metadata": {},
     "output_type": "execute_result"
    }
   ],
   "source": [
    "#model training\n",
    "logisticregressionmodel = LogisticRegression(solver='newton-cg',max_iter=10000,C=0.001,penalty='l2')\n",
    "logisticregressionmodel.fit(x_train, y_train)"
   ]
  },
  {
   "cell_type": "code",
   "execution_count": 110,
   "id": "0701bc1e",
   "metadata": {},
   "outputs": [],
   "source": [
    "#predictions test\n",
    "predicted_y = logisticregressionmodel.predict(x_test)"
   ]
  },
  {
   "cell_type": "code",
   "execution_count": 111,
   "id": "f069208e",
   "metadata": {},
   "outputs": [
    {
     "data": {
      "text/plain": [
       "0.8888888888888888"
      ]
     },
     "execution_count": 111,
     "metadata": {},
     "output_type": "execute_result"
    }
   ],
   "source": [
    "#metric1 - accuracy score\n",
    "logisticregressionmodel.score(x_test,y_test)"
   ]
  },
  {
   "cell_type": "code",
   "execution_count": 112,
   "id": "c5ef9e7d",
   "metadata": {},
   "outputs": [
    {
     "data": {
      "image/png": "[encoded data removed]",
      "text/plain": [
       "<Figure size 720x360 with 2 Axes>"
      ]
     },
     "metadata": {
      "needs_background": "light"
     },
     "output_type": "display_data"
    }
   ],
   "source": [
    "#metric2 - confusion matrix\n",
    "model1confusionmatrix = metrics.confusion_matrix(y_test, predicted_y, labels = logisticregressionmodel.classes_)\n",
    "confusionmatriximage = metrics.ConfusionMatrixDisplay(confusion_matrix=model1confusionmatrix,display_labels=logisticregressionmodel.classes_)\n",
    "fig, ax = plt.subplots(figsize=(10,5))\n",
    "confusionmatriximage.plot(cmap='Reds',ax=ax)\n",
    "plt.title('Confusion Matrix',size=15)\n",
    "plt.show()"
   ]
  },
  {
   "cell_type": "code",
   "execution_count": 113,
   "id": "91ab5a05",
   "metadata": {},
   "outputs": [
    {
     "name": "stdout",
     "output_type": "stream",
     "text": [
      "              precision    recall  f1-score   support\n",
      "\n",
      "        burn       0.89      1.00      0.94        16\n",
      "     notburn       0.00      0.00      0.00         2\n",
      "\n",
      "    accuracy                           0.89        18\n",
      "   macro avg       0.44      0.50      0.47        18\n",
      "weighted avg       0.79      0.89      0.84        18\n",
      "\n"
     ]
    }
   ],
   "source": [
    "#metric4 - classification report\n",
    "model1report = metrics.classification_report(y_test,predicted_y)\n",
    "print(model1report)"
   ]
  },
  {
   "cell_type": "code",
   "execution_count": 114,
   "id": "15bb490e",
   "metadata": {},
   "outputs": [],
   "source": [
    "# encoding the labels to 0,1 to calculate roc,  auc curve\n",
    "\n",
    "enc = LabelEncoder()\n",
    "enc.fit(y_test)\n",
    "y_test = enc.transform(y_test)"
   ]
  },
  {
   "cell_type": "code",
   "execution_count": 115,
   "id": "92cff1ca",
   "metadata": {},
   "outputs": [
    {
     "data": {
      "image/png": "[encoded data removed]",
      "text/plain": [
       "<Figure size 432x288 with 1 Axes>"
      ]
     },
     "metadata": {
      "needs_background": "light"
     },
     "output_type": "display_data"
    }
   ],
   "source": [
    "#metric4 - roc, auc curve\n",
    "y_scores=logisticregressionmodel.predict_proba(x_test)\n",
    "\n",
    "fpr,tpr,threshold =metrics.roc_curve(y_test,y_scores[:,1])\n",
    "roc_auc = metrics.auc(fpr, tpr)\n",
    "\n",
    "plt.plot(fpr, tpr,'b', label = 'AUC = %0.2f' % roc_auc)\n",
    "plt.legend(loc = 'lower right')\n",
    "plt.plot([0, 1], [0, 1],'r--')\n",
    "plt.xlim([0, 1])\n",
    "plt.ylim([0, 1])\n",
    "plt.ylabel('True Positive Rate')\n",
    "plt.xlabel('False Positive Rate')\n",
    "plt.title('ROC Curve of kNN')\n",
    "plt.show()"
   ]
  },
  {
   "cell_type": "markdown",
   "id": "c5ad3eaf",
   "metadata": {},
   "source": [
    "## 85/15"
   ]
  },
  {
   "cell_type": "code",
   "execution_count": 116,
   "id": "a42c772e",
   "metadata": {},
   "outputs": [],
   "source": [
    "#splitting the data\n",
    "x_train, x_test, y_train, y_test = train_test_split(x, y, test_size=0.15, random_state=42)"
   ]
  },
  {
   "cell_type": "code",
   "execution_count": 117,
   "id": "513c6b41",
   "metadata": {},
   "outputs": [
    {
     "data": {
      "text/plain": [
       "LogisticRegression(C=0.001, max_iter=10000, solver='newton-cg')"
      ]
     },
     "execution_count": 117,
     "metadata": {},
     "output_type": "execute_result"
    }
   ],
   "source": [
    "#model training\n",
    "logisticregressionmodel = LogisticRegression(solver='newton-cg',max_iter=10000,C=0.001,penalty='l2')\n",
    "logisticregressionmodel.fit(x_train, y_train)"
   ]
  },
  {
   "cell_type": "code",
   "execution_count": 118,
   "id": "73f6e155",
   "metadata": {},
   "outputs": [],
   "source": [
    "#predictions test\n",
    "predicted_y = logisticregressionmodel.predict(x_test)"
   ]
  },
  {
   "cell_type": "code",
   "execution_count": 119,
   "id": "58dbdd44",
   "metadata": {},
   "outputs": [
    {
     "data": {
      "text/plain": [
       "0.8571428571428571"
      ]
     },
     "execution_count": 119,
     "metadata": {},
     "output_type": "execute_result"
    }
   ],
   "source": [
    "#metric1 - accuracy score\n",
    "logisticregressionmodel.score(x_test,y_test)"
   ]
  },
  {
   "cell_type": "code",
   "execution_count": 120,
   "id": "7a0e3829",
   "metadata": {},
   "outputs": [
    {
     "data": {
      "image/png": "[encoded data removed]",
      "text/plain": [
       "<Figure size 720x360 with 2 Axes>"
      ]
     },
     "metadata": {
      "needs_background": "light"
     },
     "output_type": "display_data"
    }
   ],
   "source": [
    "#metric2 - confusion matrix\n",
    "model1confusionmatrix = metrics.confusion_matrix(y_test, predicted_y, labels = logisticregressionmodel.classes_)\n",
    "confusionmatriximage = metrics.ConfusionMatrixDisplay(confusion_matrix=model1confusionmatrix,display_labels=logisticregressionmodel.classes_)\n",
    "fig, ax = plt.subplots(figsize=(10,5))\n",
    "confusionmatriximage.plot(cmap='Reds',ax=ax)\n",
    "plt.title('Confusion Matrix',size=15)\n",
    "plt.show()"
   ]
  },
  {
   "cell_type": "code",
   "execution_count": 121,
   "id": "3a8adae2",
   "metadata": {},
   "outputs": [
    {
     "name": "stdout",
     "output_type": "stream",
     "text": [
      "              precision    recall  f1-score   support\n",
      "\n",
      "        burn       0.86      1.00      0.92        12\n",
      "     notburn       0.00      0.00      0.00         2\n",
      "\n",
      "    accuracy                           0.86        14\n",
      "   macro avg       0.43      0.50      0.46        14\n",
      "weighted avg       0.73      0.86      0.79        14\n",
      "\n"
     ]
    }
   ],
   "source": [
    "#metric4 - classification report\n",
    "model1report = metrics.classification_report(y_test,predicted_y)\n",
    "print(model1report)"
   ]
  },
  {
   "cell_type": "code",
   "execution_count": 122,
   "id": "52b27f46",
   "metadata": {},
   "outputs": [],
   "source": [
    "# encoding the labels to 0,1 to calculate roc,  auc curve\n",
    "\n",
    "enc = LabelEncoder()\n",
    "enc.fit(y_test)\n",
    "y_test = enc.transform(y_test)"
   ]
  },
  {
   "cell_type": "code",
   "execution_count": 123,
   "id": "4c684c73",
   "metadata": {},
   "outputs": [
    {
     "data": {
      "image/png": "[encoded data removed]",
      "text/plain": [
       "<Figure size 432x288 with 1 Axes>"
      ]
     },
     "metadata": {
      "needs_background": "light"
     },
     "output_type": "display_data"
    }
   ],
   "source": [
    "#metric4 - roc, auc curve\n",
    "y_scores=logisticregressionmodel.predict_proba(x_test)\n",
    "\n",
    "fpr,tpr,threshold =metrics.roc_curve(y_test,y_scores[:,1])\n",
    "roc_auc = metrics.auc(fpr, tpr)\n",
    "\n",
    "plt.plot(fpr, tpr,'b', label = 'AUC = %0.2f' % roc_auc)\n",
    "plt.legend(loc = 'lower right')\n",
    "plt.plot([0, 1], [0, 1],'r--')\n",
    "plt.xlim([0, 1])\n",
    "plt.ylim([0, 1])\n",
    "plt.ylabel('True Positive Rate')\n",
    "plt.xlabel('False Positive Rate')\n",
    "plt.title('ROC Curve of kNN')\n",
    "plt.show()"
   ]
  },
  {
   "cell_type": "code",
   "execution_count": null,
   "id": "aec8aa68",
   "metadata": {},
   "outputs": [],
   "source": []
  },
  {
   "cell_type": "markdown",
   "id": "09bb91fc",
   "metadata": {},
   "source": [
    "## 65/35"
   ]
  },
  {
   "cell_type": "code",
   "execution_count": 124,
   "id": "cd4487c2",
   "metadata": {},
   "outputs": [],
   "source": [
    "#splitting the data\n",
    "x_train, x_test, y_train, y_test = train_test_split(x, y, test_size=0.35, random_state=42)"
   ]
  },
  {
   "cell_type": "code",
   "execution_count": 125,
   "id": "7983a596",
   "metadata": {},
   "outputs": [
    {
     "data": {
      "text/plain": [
       "LogisticRegression(C=0.001, max_iter=10000, solver='newton-cg')"
      ]
     },
     "execution_count": 125,
     "metadata": {},
     "output_type": "execute_result"
    }
   ],
   "source": [
    "#model training\n",
    "logisticregressionmodel = LogisticRegression(solver='newton-cg',max_iter=10000,C=0.001,penalty='l2')\n",
    "logisticregressionmodel.fit(x_train, y_train)"
   ]
  },
  {
   "cell_type": "code",
   "execution_count": 126,
   "id": "bde5251f",
   "metadata": {},
   "outputs": [],
   "source": [
    "#predictions test\n",
    "predicted_y = logisticregressionmodel.predict(x_test)"
   ]
  },
  {
   "cell_type": "code",
   "execution_count": 127,
   "id": "5aa441bb",
   "metadata": {},
   "outputs": [
    {
     "data": {
      "text/plain": [
       "0.9032258064516129"
      ]
     },
     "execution_count": 127,
     "metadata": {},
     "output_type": "execute_result"
    }
   ],
   "source": [
    "#metric1 - accuracy score\n",
    "logisticregressionmodel.score(x_test,y_test)"
   ]
  },
  {
   "cell_type": "code",
   "execution_count": 128,
   "id": "42fe097d",
   "metadata": {},
   "outputs": [
    {
     "data": {
      "image/png": "[encoded data removed]",
      "text/plain": [
       "<Figure size 720x360 with 2 Axes>"
      ]
     },
     "metadata": {
      "needs_background": "light"
     },
     "output_type": "display_data"
    }
   ],
   "source": [
    "#metric2 - confusion matrix\n",
    "model1confusionmatrix = metrics.confusion_matrix(y_test, predicted_y, labels = logisticregressionmodel.classes_)\n",
    "confusionmatriximage = metrics.ConfusionMatrixDisplay(confusion_matrix=model1confusionmatrix,display_labels=logisticregressionmodel.classes_)\n",
    "fig, ax = plt.subplots(figsize=(10,5))\n",
    "confusionmatriximage.plot(cmap='Reds',ax=ax)\n",
    "plt.title('Confusion Matrix',size=15)\n",
    "plt.show()"
   ]
  },
  {
   "cell_type": "code",
   "execution_count": 129,
   "id": "9b14343c",
   "metadata": {},
   "outputs": [
    {
     "name": "stdout",
     "output_type": "stream",
     "text": [
      "              precision    recall  f1-score   support\n",
      "\n",
      "        burn       0.90      1.00      0.95        28\n",
      "     notburn       0.00      0.00      0.00         3\n",
      "\n",
      "    accuracy                           0.90        31\n",
      "   macro avg       0.45      0.50      0.47        31\n",
      "weighted avg       0.82      0.90      0.86        31\n",
      "\n"
     ]
    }
   ],
   "source": [
    "#metric4 - classification report\n",
    "model1report = metrics.classification_report(y_test,predicted_y)\n",
    "print(model1report)"
   ]
  },
  {
   "cell_type": "code",
   "execution_count": 130,
   "id": "d8e4ede1",
   "metadata": {},
   "outputs": [],
   "source": [
    "# encoding the labels to 0,1 to calculate roc,  auc curve\n",
    "\n",
    "enc = LabelEncoder()\n",
    "enc.fit(y_test)\n",
    "y_test = enc.transform(y_test)"
   ]
  },
  {
   "cell_type": "code",
   "execution_count": 131,
   "id": "c195ef77",
   "metadata": {},
   "outputs": [
    {
     "data": {
      "image/png": "[encoded data removed]",
      "text/plain": [
       "<Figure size 432x288 with 1 Axes>"
      ]
     },
     "metadata": {
      "needs_background": "light"
     },
     "output_type": "display_data"
    }
   ],
   "source": [
    "#metric4 - roc, auc curve\n",
    "y_scores=logisticregressionmodel.predict_proba(x_test)\n",
    "\n",
    "fpr,tpr,threshold =metrics.roc_curve(y_test,y_scores[:,1])\n",
    "roc_auc = metrics.auc(fpr, tpr)\n",
    "\n",
    "plt.plot(fpr, tpr,'b', label = 'AUC = %0.2f' % roc_auc)\n",
    "plt.legend(loc = 'lower right')\n",
    "plt.plot([0, 1], [0, 1],'r--')\n",
    "plt.xlim([0, 1])\n",
    "plt.ylim([0, 1])\n",
    "plt.ylabel('True Positive Rate')\n",
    "plt.xlabel('False Positive Rate')\n",
    "plt.title('ROC Curve of kNN')\n",
    "plt.show()"
   ]
  },
  {
   "cell_type": "code",
   "execution_count": null,
   "id": "c020ddc1",
   "metadata": {},
   "outputs": [],
   "source": []
  },
  {
   "cell_type": "markdown",
   "id": "65353c93",
   "metadata": {},
   "source": [
    "## 60/40"
   ]
  },
  {
   "cell_type": "code",
   "execution_count": 132,
   "id": "fbfe68ee",
   "metadata": {},
   "outputs": [],
   "source": [
    "#splitting the data\n",
    "x_train, x_test, y_train, y_test = train_test_split(x, y, test_size=0.40, random_state=42)"
   ]
  },
  {
   "cell_type": "code",
   "execution_count": 133,
   "id": "a506a41a",
   "metadata": {},
   "outputs": [
    {
     "data": {
      "text/plain": [
       "LogisticRegression(C=0.001, max_iter=10000, solver='newton-cg')"
      ]
     },
     "execution_count": 133,
     "metadata": {},
     "output_type": "execute_result"
    }
   ],
   "source": [
    "#model training\n",
    "logisticregressionmodel = LogisticRegression(solver='newton-cg',max_iter=10000,C=0.001,penalty='l2')\n",
    "logisticregressionmodel.fit(x_train, y_train)"
   ]
  },
  {
   "cell_type": "code",
   "execution_count": 134,
   "id": "f3ab0603",
   "metadata": {},
   "outputs": [],
   "source": [
    "#predictions test\n",
    "predicted_y = logisticregressionmodel.predict(x_test)"
   ]
  },
  {
   "cell_type": "code",
   "execution_count": 135,
   "id": "d7aa2890",
   "metadata": {},
   "outputs": [
    {
     "data": {
      "text/plain": [
       "0.9166666666666666"
      ]
     },
     "execution_count": 135,
     "metadata": {},
     "output_type": "execute_result"
    }
   ],
   "source": [
    "#metric1 - accuracy score\n",
    "logisticregressionmodel.score(x_test,y_test)"
   ]
  },
  {
   "cell_type": "code",
   "execution_count": 136,
   "id": "48861db6",
   "metadata": {},
   "outputs": [
    {
     "data": {
      "image/png": "[encoded data removed]",
      "text/plain": [
       "<Figure size 720x360 with 2 Axes>"
      ]
     },
     "metadata": {
      "needs_background": "light"
     },
     "output_type": "display_data"
    }
   ],
   "source": [
    "#metric2 - confusion matrix\n",
    "model1confusionmatrix = metrics.confusion_matrix(y_test, predicted_y, labels = logisticregressionmodel.classes_)\n",
    "confusionmatriximage = metrics.ConfusionMatrixDisplay(confusion_matrix=model1confusionmatrix,display_labels=logisticregressionmodel.classes_)\n",
    "fig, ax = plt.subplots(figsize=(10,5))\n",
    "confusionmatriximage.plot(cmap='Reds',ax=ax)\n",
    "plt.title('Confusion Matrix',size=15)\n",
    "plt.show()"
   ]
  },
  {
   "cell_type": "code",
   "execution_count": 137,
   "id": "fd59d5a8",
   "metadata": {},
   "outputs": [
    {
     "name": "stdout",
     "output_type": "stream",
     "text": [
      "              precision    recall  f1-score   support\n",
      "\n",
      "        burn       0.92      1.00      0.96        33\n",
      "     notburn       0.00      0.00      0.00         3\n",
      "\n",
      "    accuracy                           0.92        36\n",
      "   macro avg       0.46      0.50      0.48        36\n",
      "weighted avg       0.84      0.92      0.88        36\n",
      "\n"
     ]
    }
   ],
   "source": [
    "#metric4 - classification report\n",
    "model1report = metrics.classification_report(y_test,predicted_y)\n",
    "print(model1report)"
   ]
  },
  {
   "cell_type": "code",
   "execution_count": 138,
   "id": "88024e47",
   "metadata": {},
   "outputs": [],
   "source": [
    "# encoding the labels to 0,1 to calculate roc,  auc curve\n",
    "\n",
    "enc = LabelEncoder()\n",
    "enc.fit(y_test)\n",
    "y_test = enc.transform(y_test)"
   ]
  },
  {
   "cell_type": "code",
   "execution_count": 139,
   "id": "cc33f91a",
   "metadata": {},
   "outputs": [
    {
     "data": {
      "image/png": "[encoded data removed]",
      "text/plain": [
       "<Figure size 432x288 with 1 Axes>"
      ]
     },
     "metadata": {
      "needs_background": "light"
     },
     "output_type": "display_data"
    }
   ],
   "source": [
    "#metric4 - roc, auc curve\n",
    "y_scores=logisticregressionmodel.predict_proba(x_test)\n",
    "\n",
    "fpr,tpr,threshold =metrics.roc_curve(y_test,y_scores[:,1])\n",
    "roc_auc = metrics.auc(fpr, tpr)\n",
    "\n",
    "plt.plot(fpr, tpr,'b', label = 'AUC = %0.2f' % roc_auc)\n",
    "plt.legend(loc = 'lower right')\n",
    "plt.plot([0, 1], [0, 1],'r--')\n",
    "plt.xlim([0, 1])\n",
    "plt.ylim([0, 1])\n",
    "plt.ylabel('True Positive Rate')\n",
    "plt.xlabel('False Positive Rate')\n",
    "plt.title('ROC Curve of kNN')\n",
    "plt.show()"
   ]
  },
  {
   "cell_type": "code",
   "execution_count": null,
   "id": "49e20051",
   "metadata": {},
   "outputs": [],
   "source": []
  },
  {
   "cell_type": "markdown",
   "id": "750d328c",
   "metadata": {},
   "source": [
    "## 55/45"
   ]
  },
  {
   "cell_type": "code",
   "execution_count": 140,
   "id": "ba699445",
   "metadata": {},
   "outputs": [],
   "source": [
    "#splitting the data\n",
    "x_train, x_test, y_train, y_test = train_test_split(x, y, test_size=0.45, random_state=42)"
   ]
  },
  {
   "cell_type": "code",
   "execution_count": 141,
   "id": "f68195ea",
   "metadata": {},
   "outputs": [
    {
     "data": {
      "text/plain": [
       "LogisticRegression(C=0.001, max_iter=10000, solver='newton-cg')"
      ]
     },
     "execution_count": 141,
     "metadata": {},
     "output_type": "execute_result"
    }
   ],
   "source": [
    "#model training\n",
    "logisticregressionmodel = LogisticRegression(solver='newton-cg',max_iter=10000,C=0.001,penalty='l2')\n",
    "logisticregressionmodel.fit(x_train, y_train)"
   ]
  },
  {
   "cell_type": "code",
   "execution_count": 142,
   "id": "f9d7cb84",
   "metadata": {},
   "outputs": [],
   "source": [
    "#predictions test\n",
    "predicted_y = logisticregressionmodel.predict(x_test)"
   ]
  },
  {
   "cell_type": "code",
   "execution_count": 143,
   "id": "2ff8d0f2",
   "metadata": {},
   "outputs": [
    {
     "data": {
      "text/plain": [
       "0.95"
      ]
     },
     "execution_count": 143,
     "metadata": {},
     "output_type": "execute_result"
    }
   ],
   "source": [
    "#metric1 - accuracy score\n",
    "logisticregressionmodel.score(x_test,y_test)"
   ]
  },
  {
   "cell_type": "code",
   "execution_count": 144,
   "id": "3256b7e7",
   "metadata": {},
   "outputs": [
    {
     "data": {
      "image/png": "[encoded data removed]",
      "text/plain": [
       "<Figure size 720x360 with 2 Axes>"
      ]
     },
     "metadata": {
      "needs_background": "light"
     },
     "output_type": "display_data"
    }
   ],
   "source": [
    "#metric2 - confusion matrix\n",
    "model1confusionmatrix = metrics.confusion_matrix(y_test, predicted_y, labels = logisticregressionmodel.classes_)\n",
    "confusionmatriximage = metrics.ConfusionMatrixDisplay(confusion_matrix=model1confusionmatrix,display_labels=logisticregressionmodel.classes_)\n",
    "fig, ax = plt.subplots(figsize=(10,5))\n",
    "confusionmatriximage.plot(cmap='Reds',ax=ax)\n",
    "plt.title('Confusion Matrix',size=15)\n",
    "plt.show()"
   ]
  },
  {
   "cell_type": "code",
   "execution_count": 145,
   "id": "8e195d62",
   "metadata": {},
   "outputs": [
    {
     "name": "stdout",
     "output_type": "stream",
     "text": [
      "              precision    recall  f1-score   support\n",
      "\n",
      "        burn       0.95      1.00      0.97        37\n",
      "     notburn       1.00      0.33      0.50         3\n",
      "\n",
      "    accuracy                           0.95        40\n",
      "   macro avg       0.97      0.67      0.74        40\n",
      "weighted avg       0.95      0.95      0.94        40\n",
      "\n"
     ]
    }
   ],
   "source": [
    "#metric4 - classification report\n",
    "model1report = metrics.classification_report(y_test,predicted_y)\n",
    "print(model1report)"
   ]
  },
  {
   "cell_type": "code",
   "execution_count": 146,
   "id": "1ad9c50b",
   "metadata": {},
   "outputs": [],
   "source": [
    "# encoding the labels to 0,1 to calculate roc,  auc curve\n",
    "\n",
    "enc = LabelEncoder()\n",
    "enc.fit(y_test)\n",
    "y_test = enc.transform(y_test)"
   ]
  },
  {
   "cell_type": "code",
   "execution_count": 147,
   "id": "3dce281f",
   "metadata": {},
   "outputs": [
    {
     "data": {
      "image/png": "[encoded data removed]",
      "text/plain": [
       "<Figure size 432x288 with 1 Axes>"
      ]
     },
     "metadata": {
      "needs_background": "light"
     },
     "output_type": "display_data"
    }
   ],
   "source": [
    "#metric4 - roc, auc curve\n",
    "y_scores=logisticregressionmodel.predict_proba(x_test)\n",
    "\n",
    "fpr,tpr,threshold =metrics.roc_curve(y_test,y_scores[:,1])\n",
    "roc_auc = metrics.auc(fpr, tpr)\n",
    "\n",
    "plt.plot(fpr, tpr,'b', label = 'AUC = %0.2f' % roc_auc)\n",
    "plt.legend(loc = 'lower right')\n",
    "plt.plot([0, 1], [0, 1],'r--')\n",
    "plt.xlim([0, 1])\n",
    "plt.ylim([0, 1])\n",
    "plt.ylabel('True Positive Rate')\n",
    "plt.xlabel('False Positive Rate')\n",
    "plt.title('ROC Curve of kNN')\n",
    "plt.show()"
   ]
  },
  {
   "cell_type": "code",
   "execution_count": null,
   "id": "fcdce772",
   "metadata": {},
   "outputs": [],
   "source": []
  },
  {
   "cell_type": "markdown",
   "id": "e338e97b",
   "metadata": {},
   "source": [
    "## 50/50"
   ]
  },
  {
   "cell_type": "code",
   "execution_count": 156,
   "id": "a1d64b66",
   "metadata": {},
   "outputs": [],
   "source": [
    "#splitting the data\n",
    "x_train, x_test, y_train, y_test = train_test_split(x, y, test_size=0.50, random_state=42)"
   ]
  },
  {
   "cell_type": "code",
   "execution_count": 149,
   "id": "613b7be0",
   "metadata": {},
   "outputs": [
    {
     "data": {
      "text/plain": [
       "LogisticRegression(C=0.001, max_iter=10000, solver='newton-cg')"
      ]
     },
     "execution_count": 149,
     "metadata": {},
     "output_type": "execute_result"
    }
   ],
   "source": [
    "#model training\n",
    "logisticregressionmodel = LogisticRegression(solver='newton-cg',max_iter=10000,C=0.001,penalty='l2')\n",
    "logisticregressionmodel.fit(x_train, y_train)"
   ]
  },
  {
   "cell_type": "code",
   "execution_count": 150,
   "id": "238ffc41",
   "metadata": {},
   "outputs": [],
   "source": [
    "#predictions test\n",
    "predicted_y = logisticregressionmodel.predict(x_test)"
   ]
  },
  {
   "cell_type": "code",
   "execution_count": 151,
   "id": "b6654298",
   "metadata": {},
   "outputs": [
    {
     "data": {
      "text/plain": [
       "0.9545454545454546"
      ]
     },
     "execution_count": 151,
     "metadata": {},
     "output_type": "execute_result"
    }
   ],
   "source": [
    "#metric1 - accuracy score\n",
    "logisticregressionmodel.score(x_test,y_test)"
   ]
  },
  {
   "cell_type": "code",
   "execution_count": 152,
   "id": "41bef091",
   "metadata": {},
   "outputs": [
    {
     "data": {
      "image/png": "[encoded data removed]",
      "text/plain": [
       "<Figure size 720x360 with 2 Axes>"
      ]
     },
     "metadata": {
      "needs_background": "light"
     },
     "output_type": "display_data"
    }
   ],
   "source": [
    "#metric2 - confusion matrix\n",
    "model1confusionmatrix = metrics.confusion_matrix(y_test, predicted_y, labels = logisticregressionmodel.classes_)\n",
    "confusionmatriximage = metrics.ConfusionMatrixDisplay(confusion_matrix=model1confusionmatrix,display_labels=logisticregressionmodel.classes_)\n",
    "fig, ax = plt.subplots(figsize=(10,5))\n",
    "confusionmatriximage.plot(cmap='Reds',ax=ax)\n",
    "plt.title('Confusion Matrix',size=15)\n",
    "plt.show()"
   ]
  },
  {
   "cell_type": "code",
   "execution_count": 153,
   "id": "9268c5e8",
   "metadata": {},
   "outputs": [
    {
     "name": "stdout",
     "output_type": "stream",
     "text": [
      "              precision    recall  f1-score   support\n",
      "\n",
      "        burn       0.95      1.00      0.98        41\n",
      "     notburn       1.00      0.33      0.50         3\n",
      "\n",
      "    accuracy                           0.95        44\n",
      "   macro avg       0.98      0.67      0.74        44\n",
      "weighted avg       0.96      0.95      0.94        44\n",
      "\n"
     ]
    }
   ],
   "source": [
    "#metric4 - classification report\n",
    "model1report = metrics.classification_report(y_test,predicted_y)\n",
    "print(model1report)"
   ]
  },
  {
   "cell_type": "code",
   "execution_count": 154,
   "id": "81fe3090",
   "metadata": {},
   "outputs": [],
   "source": [
    "# encoding the labels to 0,1 to calculate roc,  auc curve\n",
    "\n",
    "enc = LabelEncoder()\n",
    "enc.fit(y_test)\n",
    "y_test = enc.transform(y_test)"
   ]
  },
  {
   "cell_type": "code",
   "execution_count": 155,
   "id": "551ba498",
   "metadata": {},
   "outputs": [
    {
     "data": {
      "image/png": "[encoded data removed]",
      "text/plain": [
       "<Figure size 432x288 with 1 Axes>"
      ]
     },
     "metadata": {
      "needs_background": "light"
     },
     "output_type": "display_data"
    }
   ],
   "source": [
    "#metric4 - roc, auc curve\n",
    "y_scores=logisticregressionmodel.predict_proba(x_test)\n",
    "\n",
    "fpr,tpr,threshold =metrics.roc_curve(y_test,y_scores[:,1])\n",
    "roc_auc = metrics.auc(fpr, tpr)\n",
    "\n",
    "plt.plot(fpr, tpr,'b', label = 'AUC = %0.2f' % roc_auc)\n",
    "plt.legend(loc = 'lower right')\n",
    "plt.plot([0, 1], [0, 1],'r--')\n",
    "plt.xlim([0, 1])\n",
    "plt.ylim([0, 1])\n",
    "plt.ylabel('True Positive Rate')\n",
    "plt.xlabel('False Positive Rate')\n",
    "plt.title('ROC Curve of kNN')\n",
    "plt.show()"
   ]
  },
  {
   "cell_type": "code",
   "execution_count": null,
   "id": "eb883907",
   "metadata": {},
   "outputs": [],
   "source": []
  },
  {
   "cell_type": "markdown",
   "id": "6ce59f21",
   "metadata": {},
   "source": [
    "#### So, we can see that improving accuracy for decrease in train data. I would consider 50/50 split and build a knn model"
   ]
  },
  {
   "cell_type": "markdown",
   "id": "96b394c5",
   "metadata": {},
   "source": [
    "## k = 1"
   ]
  },
  {
   "cell_type": "markdown",
   "id": "b96ddb79",
   "metadata": {},
   "source": [
    "#### Model Training "
   ]
  },
  {
   "cell_type": "code",
   "execution_count": 63,
   "id": "788590e6",
   "metadata": {},
   "outputs": [],
   "source": [
    "x_train, x_test, y_train, y_test = train_test_split(x, y, test_size=0.40, random_state=42)"
   ]
  },
  {
   "cell_type": "code",
   "execution_count": 64,
   "id": "325088fd",
   "metadata": {},
   "outputs": [
    {
     "data": {
      "text/plain": [
       "KNeighborsClassifier(n_neighbors=1)"
      ]
     },
     "execution_count": 64,
     "metadata": {},
     "output_type": "execute_result"
    }
   ],
   "source": [
    "# training the model\n",
    "\n",
    "model = KNeighborsClassifier(n_neighbors=1).fit(x_train,y_train)\n",
    "model"
   ]
  },
  {
   "cell_type": "code",
   "execution_count": 65,
   "id": "af585151",
   "metadata": {},
   "outputs": [
    {
     "data": {
      "text/plain": [
       "array(['burn', 'burn', 'burn', 'burn', 'burn', 'burn', 'burn', 'burn',\n",
       "       'burn', 'burn', 'burn', 'burn', 'burn', 'burn', 'burn', 'burn',\n",
       "       'burn', 'burn', 'burn', 'burn', 'burn', 'burn', 'burn', 'burn',\n",
       "       'burn', 'burn', 'burn', 'burn', 'burn', 'burn', 'burn', 'burn',\n",
       "       'burn', 'burn', 'burn', 'burn'], dtype='<U7')"
      ]
     },
     "execution_count": 65,
     "metadata": {},
     "output_type": "execute_result"
    }
   ],
   "source": [
    "#predictions test\n",
    "\n",
    "predicted_y = model.predict(x_test)\n",
    "predicted_y"
   ]
  },
  {
   "cell_type": "markdown",
   "id": "5a065017",
   "metadata": {},
   "source": [
    "#### Metrics"
   ]
  },
  {
   "cell_type": "code",
   "execution_count": 66,
   "id": "b72d3fd4",
   "metadata": {},
   "outputs": [
    {
     "data": {
      "text/plain": [
       "0.9166666666666666"
      ]
     },
     "execution_count": 66,
     "metadata": {},
     "output_type": "execute_result"
    }
   ],
   "source": [
    "#metric1 - accuracy score\n",
    "\n",
    "model.score(x_test,y_test)"
   ]
  },
  {
   "cell_type": "code",
   "execution_count": 67,
   "id": "22c3e117",
   "metadata": {},
   "outputs": [
    {
     "data": {
      "image/png": "[encoded data removed]",
      "text/plain": [
       "<Figure size 1440x720 with 2 Axes>"
      ]
     },
     "metadata": {
      "needs_background": "light"
     },
     "output_type": "display_data"
    }
   ],
   "source": [
    "#metric2 - confusion matrix\n",
    "\n",
    "modelconfusionmatrix = metrics.confusion_matrix(y_test, predicted_y, labels = model.classes_)\n",
    "confusionmatriximage = metrics.ConfusionMatrixDisplay(confusion_matrix=modelconfusionmatrix,display_labels=model.classes_)\n",
    "fig, ax = plt.subplots(figsize=(20,10))\n",
    "confusionmatriximage.plot(cmap='Reds',ax=ax)\n",
    "plt.title('Confusion Matrix',size=15)\n",
    "plt.show()"
   ]
  },
  {
   "cell_type": "code",
   "execution_count": 68,
   "id": "f85c342e",
   "metadata": {},
   "outputs": [
    {
     "name": "stdout",
     "output_type": "stream",
     "text": [
      "              precision    recall  f1-score   support\n",
      "\n",
      "        burn       0.92      1.00      0.96        33\n",
      "     notburn       0.00      0.00      0.00         3\n",
      "\n",
      "    accuracy                           0.92        36\n",
      "   macro avg       0.46      0.50      0.48        36\n",
      "weighted avg       0.84      0.92      0.88        36\n",
      "\n"
     ]
    }
   ],
   "source": [
    "#metric3 - classification report\n",
    "\n",
    "modelreport = metrics.classification_report(y_test,predicted_y)\n",
    "print(modelreport)"
   ]
  },
  {
   "cell_type": "code",
   "execution_count": 69,
   "id": "46eef913",
   "metadata": {},
   "outputs": [],
   "source": [
    "# encoding the labels to 0,1 to calculate roc,  auc curve\n",
    "\n",
    "enc = LabelEncoder()\n",
    "enc.fit(y_test)\n",
    "y_test = enc.transform(y_test)"
   ]
  },
  {
   "cell_type": "code",
   "execution_count": 70,
   "id": "30508589",
   "metadata": {},
   "outputs": [
    {
     "data": {
      "image/png": "[encoded data removed]",
      "text/plain": [
       "<Figure size 432x288 with 1 Axes>"
      ]
     },
     "metadata": {
      "needs_background": "light"
     },
     "output_type": "display_data"
    }
   ],
   "source": [
    "#metric4 - roc, auc curve\n",
    "y_scores=model.predict_proba(x_test)\n",
    "\n",
    "fpr,tpr,threshold =metrics.roc_curve(y_test,y_scores[:,1])\n",
    "roc_auc = metrics.auc(fpr, tpr)\n",
    "\n",
    "plt.plot(fpr, tpr,'b', label = 'AUC = %0.2f' % roc_auc)\n",
    "plt.legend(loc = 'lower right')\n",
    "plt.plot([0, 1], [0, 1],'r--')\n",
    "plt.xlim([0, 1])\n",
    "plt.ylim([0, 1])\n",
    "plt.ylabel('True Positive Rate')\n",
    "plt.xlabel('False Positive Rate')\n",
    "plt.title('ROC Curve of kNN')\n",
    "plt.show()"
   ]
  },
  {
   "cell_type": "markdown",
   "id": "9e4df4de",
   "metadata": {},
   "source": [
    "## k = 3"
   ]
  },
  {
   "cell_type": "code",
   "execution_count": null,
   "id": "33fea493",
   "metadata": {},
   "outputs": [],
   "source": [
    "# training the model\n",
    "\n",
    "model = KNeighborsClassifier(n_neighbors=3).fit(x,y)\n",
    "model"
   ]
  },
  {
   "cell_type": "code",
   "execution_count": null,
   "id": "adfd615b",
   "metadata": {},
   "outputs": [],
   "source": [
    "#testing the model\n",
    "\n",
    "testdata = random.sample(files,20)\n",
    "test_x = []\n",
    "test_y = []\n",
    "\n",
    "for file in testdata:\n",
    "    if file == '.DS_Store':\n",
    "        continue\n",
    "    elif 'i' == file[0]:\n",
    "        test_y.append('burn')\n",
    "        img = np.array(Image.open(mypath + '/' +file)).mean(axis=(0,1))\n",
    "        test_x.append((img[0]/(img[0]+img[1]+img[2]),img[1]/(img[0]+img[1]+img[2]),(img[2]/img[0]+img[1]+img[2])))\n",
    "    else:\n",
    "        test_y.append('notburn')\n",
    "        img = np.array(Image.open(mypath + '/' +file)).mean(axis=(0,1))\n",
    "        test_x.append((img[0]/(img[0]+img[1]+img[2]),img[1]/(img[0]+img[1]+img[2]),(img[2]/img[0]+img[1]+img[2])))\n",
    "test_x = np.array(test_x)"
   ]
  },
  {
   "cell_type": "code",
   "execution_count": null,
   "id": "493b0c0a",
   "metadata": {},
   "outputs": [],
   "source": [
    "#predictions test\n",
    "\n",
    "predicted_y = model.predict(test_x)\n",
    "predicted_y"
   ]
  },
  {
   "cell_type": "code",
   "execution_count": null,
   "id": "b3cf430f",
   "metadata": {},
   "outputs": [],
   "source": [
    "#metric1 - accuracy score\n",
    "\n",
    "model.score(test_x,test_y)"
   ]
  },
  {
   "cell_type": "code",
   "execution_count": null,
   "id": "0633cdeb",
   "metadata": {},
   "outputs": [],
   "source": [
    "#metric2 - confusion matrix\n",
    "\n",
    "modelconfusionmatrix = metrics.confusion_matrix(test_y, predicted_y, labels = model.classes_)\n",
    "confusionmatriximage = metrics.ConfusionMatrixDisplay(confusion_matrix=modelconfusionmatrix,display_labels=model.classes_)\n",
    "fig, ax = plt.subplots(figsize=(20,10))\n",
    "confusionmatriximage.plot(cmap='Reds',ax=ax)\n",
    "plt.title('Confusion Matrix',size=15)\n",
    "plt.show()"
   ]
  },
  {
   "cell_type": "code",
   "execution_count": null,
   "id": "469973cb",
   "metadata": {},
   "outputs": [],
   "source": [
    "#metric3 - classification report\n",
    "\n",
    "modelreport = metrics.classification_report(test_y,predicted_y)\n",
    "print(modelreport)"
   ]
  },
  {
   "cell_type": "code",
   "execution_count": null,
   "id": "9912b206",
   "metadata": {},
   "outputs": [],
   "source": [
    "# encoding the labels to 0,1\n",
    "\n",
    "enc = LabelEncoder()\n",
    "enc.fit(test_y)\n",
    "y_test = enc.transform(test_y)"
   ]
  },
  {
   "cell_type": "code",
   "execution_count": null,
   "id": "108ce04e",
   "metadata": {},
   "outputs": [],
   "source": [
    "#metric4 - roc, auc curve\n",
    "y_scores=model.predict_proba(test_x)\n",
    "\n",
    "fpr,tpr,threshold =metrics.roc_curve(y_test,y_scores[:,1])\n",
    "roc_auc = metrics.auc(fpr, tpr)\n",
    "\n",
    "plt.plot(fpr, tpr,'b', label = 'AUC = %0.2f' % roc_auc)\n",
    "plt.legend(loc = 'lower right')\n",
    "plt.plot([0, 1], [0, 1],'r--')\n",
    "plt.xlim([0, 1])\n",
    "plt.ylim([0, 1])\n",
    "plt.ylabel('True Positive Rate')\n",
    "plt.xlabel('False Positive Rate')\n",
    "plt.title('ROC Curve of kNN')\n",
    "plt.show()"
   ]
  },
  {
   "cell_type": "markdown",
   "id": "fbc4d833",
   "metadata": {},
   "source": [
    "## k = 5"
   ]
  },
  {
   "cell_type": "code",
   "execution_count": null,
   "id": "8eee45ff",
   "metadata": {},
   "outputs": [],
   "source": [
    "# training the model\n",
    "\n",
    "model = KNeighborsClassifier(n_neighbors=5).fit(x,y)\n",
    "model"
   ]
  },
  {
   "cell_type": "code",
   "execution_count": null,
   "id": "623a36aa",
   "metadata": {},
   "outputs": [],
   "source": [
    "#testing the model\n",
    "\n",
    "testdata = random.sample(files,20)\n",
    "test_x = []\n",
    "test_y = []\n",
    "\n",
    "for file in testdata:\n",
    "    if file == '.DS_Store':\n",
    "        continue\n",
    "    elif 'i' == file[0]:\n",
    "        test_y.append('burn')\n",
    "        img = np.array(Image.open(mypath + '/' +file)).mean(axis=(0,1))\n",
    "        test_x.append((img[0]/(img[0]+img[1]+img[2]),img[1]/(img[0]+img[1]+img[2]),(img[2]/img[0]+img[1]+img[2])))\n",
    "    else:\n",
    "        test_y.append('notburn')\n",
    "        img = np.array(Image.open(mypath + '/' +file)).mean(axis=(0,1))\n",
    "        test_x.append((img[0]/(img[0]+img[1]+img[2]),img[1]/(img[0]+img[1]+img[2]),(img[2]/img[0]+img[1]+img[2])))\n",
    "test_x = np.array(test_x)"
   ]
  },
  {
   "cell_type": "code",
   "execution_count": null,
   "id": "37aea50f",
   "metadata": {},
   "outputs": [],
   "source": [
    "#predictions test\n",
    "\n",
    "predicted_y = model.predict(test_x)\n",
    "predicted_y"
   ]
  },
  {
   "cell_type": "code",
   "execution_count": null,
   "id": "fe031b1d",
   "metadata": {},
   "outputs": [],
   "source": [
    "#metric1 - accuracy score\n",
    "\n",
    "model.score(test_x,test_y)"
   ]
  },
  {
   "cell_type": "code",
   "execution_count": null,
   "id": "c0c6ddf7",
   "metadata": {},
   "outputs": [],
   "source": [
    "#metric2 - confusion matrix\n",
    "\n",
    "modelconfusionmatrix = metrics.confusion_matrix(test_y, predicted_y, labels = model.classes_)\n",
    "confusionmatriximage = metrics.ConfusionMatrixDisplay(confusion_matrix=modelconfusionmatrix,display_labels=model.classes_)\n",
    "fig, ax = plt.subplots(figsize=(20,10))\n",
    "confusionmatriximage.plot(cmap='Reds',ax=ax)\n",
    "plt.title('Confusion Matrix',size=15)\n",
    "plt.show()"
   ]
  },
  {
   "cell_type": "code",
   "execution_count": null,
   "id": "1a5a8065",
   "metadata": {},
   "outputs": [],
   "source": [
    "#metric3 - classification report\n",
    "\n",
    "modelreport = metrics.classification_report(test_y,predicted_y)\n",
    "print(modelreport)"
   ]
  },
  {
   "cell_type": "code",
   "execution_count": null,
   "id": "8746b6c3",
   "metadata": {},
   "outputs": [],
   "source": [
    "# encoding the labels to 0,1\n",
    "\n",
    "enc = LabelEncoder()\n",
    "enc.fit(test_y)\n",
    "y_test = enc.transform(test_y)"
   ]
  },
  {
   "cell_type": "code",
   "execution_count": null,
   "id": "a016f843",
   "metadata": {},
   "outputs": [],
   "source": [
    "#metric4 - roc, auc curve\n",
    "y_scores=model.predict_proba(test_x)\n",
    "\n",
    "fpr,tpr,threshold =metrics.roc_curve(y_test,y_scores[:,1])\n",
    "roc_auc = metrics.auc(fpr, tpr)\n",
    "\n",
    "plt.plot(fpr, tpr,'b', label = 'AUC = %0.2f' % roc_auc)\n",
    "plt.legend(loc = 'lower right')\n",
    "plt.plot([0, 1], [0, 1],'r--')\n",
    "plt.xlim([0, 1])\n",
    "plt.ylim([0, 1])\n",
    "plt.ylabel('True Positive Rate')\n",
    "plt.xlabel('False Positive Rate')\n",
    "plt.title('ROC Curve of kNN')\n",
    "plt.show()"
   ]
  },
  {
   "cell_type": "markdown",
   "id": "e99d9aba",
   "metadata": {},
   "source": [
    "#### Finding Best Accuracy K-Value"
   ]
  },
  {
   "cell_type": "code",
   "execution_count": null,
   "id": "3a2e6343",
   "metadata": {},
   "outputs": [],
   "source": [
    "scores = []\n",
    "\n",
    "for i in range(1,30):\n",
    "    model = KNeighborsClassifier(i)\n",
    "    model.fit(x,y)\n",
    "    pred_y = model.predict(test_x)\n",
    "    score = metrics.accuracy_score(test_y,pred_y,normalize=True)*float(100)\n",
    "    scores.append(score)\n",
    "    \n",
    "plt.figure(figsize=(10,6))\n",
    "plt.plot(range(1,30),scores,marker='*',markersize=10,markerfacecolor='cyan')\n",
    "plt.ylabel('Accuracy of the Model')\n",
    "plt.xlabel('K-Value')\n",
    "plt.show()"
   ]
  },
  {
   "cell_type": "markdown",
   "id": "f7a95385",
   "metadata": {},
   "source": [
    "#### Cross Validation for Optimal K-Value"
   ]
  },
  {
   "cell_type": "code",
   "execution_count": null,
   "id": "6651f713",
   "metadata": {},
   "outputs": [],
   "source": [
    "from sklearn.model_selection import cross_val_score\n",
    "\n",
    "optimal_kvalues = list(range(1,15,3))\n",
    "cvScores = []\n",
    "\n",
    "for i in optimal_kvalues:\n",
    "    model = KNeighborsClassifier(i)\n",
    "    scores = cross_val_score(model,x,y,cv=8,scoring='accuracy')\n",
    "    cvScores.append(scores.mean())\n",
    "\n",
    "error = [1-x for x in cvScores]\n",
    "\n",
    "plt.figure(figsize=(10,6))\n",
    "plt.plot(range(1,15,3),error,marker='*',markersize=10,markerfacecolor='red')\n",
    "plt.xlabel('K-Value')\n",
    "plt.ylabel('Missclassification error')\n",
    "plt.show()"
   ]
  },
  {
   "cell_type": "markdown",
   "id": "afc18271",
   "metadata": {},
   "source": [
    "## k = 7"
   ]
  },
  {
   "cell_type": "code",
   "execution_count": null,
   "id": "cebdea48",
   "metadata": {},
   "outputs": [],
   "source": [
    "# training the model\n",
    "\n",
    "model = KNeighborsClassifier(n_neighbors=7).fit(x,y)\n",
    "model"
   ]
  },
  {
   "cell_type": "code",
   "execution_count": null,
   "id": "4c5d946f",
   "metadata": {},
   "outputs": [],
   "source": [
    "#testing the model\n",
    "\n",
    "testdata = random.sample(files,20)\n",
    "test_x = []\n",
    "test_y = []\n",
    "\n",
    "for file in testdata:\n",
    "    if file == '.DS_Store':\n",
    "        continue\n",
    "    elif 'i' == file[0]:\n",
    "        test_y.append('burn')\n",
    "        img = np.array(Image.open(mypath + '/' +file)).mean(axis=(0,1))\n",
    "        test_x.append((img[0]/(img[0]+img[1]+img[2]),img[1]/(img[0]+img[1]+img[2]),(img[2]/img[0]+img[1]+img[2])))\n",
    "    else:\n",
    "        test_y.append('notburn')\n",
    "        img = np.array(Image.open(mypath + '/' +file)).mean(axis=(0,1))\n",
    "        test_x.append((img[0]/(img[0]+img[1]+img[2]),img[1]/(img[0]+img[1]+img[2]),(img[2]/img[0]+img[1]+img[2])))\n",
    "test_x = np.array(test_x)"
   ]
  },
  {
   "cell_type": "code",
   "execution_count": null,
   "id": "2f54dac7",
   "metadata": {},
   "outputs": [],
   "source": [
    "#predictions test\n",
    "\n",
    "predicted_y = model.predict(test_x)\n",
    "predicted_y"
   ]
  },
  {
   "cell_type": "code",
   "execution_count": null,
   "id": "9f6d7304",
   "metadata": {},
   "outputs": [],
   "source": [
    "#metric1 - accuracy score\n",
    "\n",
    "model.score(test_x,test_y)"
   ]
  },
  {
   "cell_type": "code",
   "execution_count": null,
   "id": "89555db0",
   "metadata": {},
   "outputs": [],
   "source": [
    "#metric2 - confusion matrix\n",
    "\n",
    "modelconfusionmatrix = metrics.confusion_matrix(test_y, predicted_y, labels = model.classes_)\n",
    "confusionmatriximage = metrics.ConfusionMatrixDisplay(confusion_matrix=modelconfusionmatrix,display_labels=model.classes_)\n",
    "fig, ax = plt.subplots(figsize=(20,10))\n",
    "confusionmatriximage.plot(cmap='Reds',ax=ax)\n",
    "plt.title('Confusion Matrix',size=15)\n",
    "plt.show()"
   ]
  },
  {
   "cell_type": "code",
   "execution_count": null,
   "id": "6a540f80",
   "metadata": {},
   "outputs": [],
   "source": [
    "#metric3 - classification report\n",
    "\n",
    "modelreport = metrics.classification_report(test_y,predicted_y)\n",
    "print(modelreport)"
   ]
  },
  {
   "cell_type": "code",
   "execution_count": null,
   "id": "a7a76e1d",
   "metadata": {},
   "outputs": [],
   "source": [
    "# encoding the labels to 0,1\n",
    "\n",
    "enc = LabelEncoder()\n",
    "enc.fit(test_y)\n",
    "y_test = enc.transform(test_y)"
   ]
  },
  {
   "cell_type": "code",
   "execution_count": null,
   "id": "1934e9ab",
   "metadata": {},
   "outputs": [],
   "source": [
    "#metric4 - roc, auc curve\n",
    "y_scores=model.predict_proba(test_x)\n",
    "\n",
    "fpr,tpr,threshold =metrics.roc_curve(y_test,y_scores[:,1])\n",
    "roc_auc = metrics.auc(fpr, tpr)\n",
    "\n",
    "plt.plot(fpr, tpr,'b', label = 'AUC = %0.2f' % roc_auc)\n",
    "plt.legend(loc = 'lower right')\n",
    "plt.plot([0, 1], [0, 1],'r--')\n",
    "plt.xlim([0, 1])\n",
    "plt.ylim([0, 1])\n",
    "plt.ylabel('True Positive Rate')\n",
    "plt.xlabel('False Positive Rate')\n",
    "plt.title('ROC Curve of kNN')\n",
    "plt.show()"
   ]
  },
  {
   "cell_type": "markdown",
   "id": "db1c9d75",
   "metadata": {},
   "source": [
    "#### So, k=7 is the optimal choice as it is achieving better accuracy along with best misclassification rate."
   ]
  },
  {
   "cell_type": "code",
   "execution_count": null,
   "id": "e446fda1",
   "metadata": {},
   "outputs": [],
   "source": []
  }
 ],
 "metadata": {
  "kernelspec": {
   "display_name": "Python 3 (ipykernel)",
   "language": "python",
   "name": "python3"
  },
  "language_info": {
   "codemirror_mode": {
    "name": "ipython",
    "version": 3
   },
   "file_extension": ".py",
   "mimetype": "text/x-python",
   "name": "python",
   "nbconvert_exporter": "python",
   "pygments_lexer": "ipython3",
   "version": "3.9.12"
  }
 },
 "nbformat": 4,
 "nbformat_minor": 5
}
