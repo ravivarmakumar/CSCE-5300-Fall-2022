{
 "cells": [
  {
   "cell_type": "markdown",
   "id": "ebbfd4ff",
   "metadata": {},
   "source": [
    "#### Name: Ravi Varma Kumar Bevara\n",
    "#### Student ID: 11476678"
   ]
  },
  {
   "cell_type": "markdown",
   "id": "7aa33805",
   "metadata": {},
   "source": [
    "# Question 2\n",
    "\n",
    "Replace pass with appropriate code in the complx class method to return basic mathematical operations (3 pts)\n",
    "\n",
    "      class cmplx :\n",
    "                def __init__(self, real, img):\n",
    "                     pass\n",
    "                def add_cmplx(self, other):\n",
    "                     pass\n",
    "                def sub_cmplx(self, other):\n",
    "                     pass                             \n",
    "\n",
    "Example output:\n",
    "\n",
    "c1 = cmplx(5,3)\\\n",
    "c2 = cmplx(7,5)\\\n",
    "c1.add_cmplx(c2)\\\n",
    "(12, 8)\\\n",
    "c1.sub_cmplx(c2)\\\n",
    "(-2,-2)"
   ]
  },
  {
   "cell_type": "code",
   "execution_count": 4,
   "id": "c7308064",
   "metadata": {},
   "outputs": [
    {
     "name": "stdout",
     "output_type": "stream",
     "text": [
      "( 12 , 8 )\n",
      "( -2 , -2 )\n"
     ]
    }
   ],
   "source": [
    "class cmplx:\n",
    "    def __init__(self, real, img):\n",
    "        self.real=real\n",
    "        self.img =img\n",
    "    def add_cmplx(self, other):\n",
    "        print(\"(\",self.real+other.real,\",\",self.img+other.img,\")\")\n",
    "    def sub_cmplx(self, other):\n",
    "        print(\"(\", self.real - other.real, \",\", self.img - other.img, \")\")\n",
    "\n",
    "c1 = cmplx(5,3)\n",
    "c2 = cmplx(7,5)\n",
    "c1.add_cmplx(c2)\n",
    "c1.sub_cmplx(c2)"
   ]
  }
 ],
 "metadata": {
  "kernelspec": {
   "display_name": "Python 3 (ipykernel)",
   "language": "python",
   "name": "python3"
  },
  "language_info": {
   "codemirror_mode": {
    "name": "ipython",
    "version": 3
   },
   "file_extension": ".py",
   "mimetype": "text/x-python",
   "name": "python",
   "nbconvert_exporter": "python",
   "pygments_lexer": "ipython3",
   "version": "3.9.12"
  }
 },
 "nbformat": 4,
 "nbformat_minor": 5
}
