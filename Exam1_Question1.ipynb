{
 "cells": [
  {
   "cell_type": "code",
   "execution_count": 1,
   "id": "fc865ea3",
   "metadata": {},
   "outputs": [
    {
     "name": "stdout",
     "output_type": "stream",
     "text": [
      "3.63\n"
     ]
    }
   ],
   "source": [
    "import math\n",
    "\n",
    "#step 1 - creating dictionary\n",
    "scoring = {2:['p','q','r','s','t'],\n",
    "           3:['P','Q','R','S','T'],\n",
    "           4:['1','2','3','4'],\n",
    "           5:['!','$','@']}\n",
    "\n",
    "#step 2 - saving the input string into a varibale\n",
    "myPassWd = 'p@Q!R3s$'\n",
    "\n",
    "def passwordStrength(inp):\n",
    "    score = 0\n",
    "    for i in range(len(inp)):\n",
    "        for k in scoring.keys():\n",
    "            if inp[i] in scoring[k]:\n",
    "                score = score+int(k) #updating the score by adding all keys\n",
    "    weightedscore = math.ceil(score/len(inp)*100)/100 #calculating weighted score by diving the score with len of input\n",
    "    return weightedscore\n",
    "\n",
    "print(passwordStrength(myPassWd))"
   ]
  },
  {
   "cell_type": "code",
   "execution_count": 2,
   "id": "9f3d1235",
   "metadata": {},
   "outputs": [
    {
     "name": "stdout",
     "output_type": "stream",
     "text": [
      "The Weighted Score for rrQR23$!@ is 3.67\n",
      "The Weighted Score for QQr$$13! is 3.88\n",
      "The Weighted Score for 12333pqrPP is 3.2\n",
      "The Weighted Score for pqrPQR123$! is 3.37\n"
     ]
    }
   ],
   "source": [
    "tests = [\"rrQR23$!@\",\"QQr$$13!\",\"12333pqrPP\",\"pqrPQR123$!\"]\n",
    "for i in range(len(tests)):\n",
    "    myPassWd = tests[i]\n",
    "    print(\"The Weighted Score for \"+myPassWd+\" is \"+str(passwordStrength(myPassWd)))"
   ]
  }
 ],
 "metadata": {
  "kernelspec": {
   "display_name": "Python 3 (ipykernel)",
   "language": "python",
   "name": "python3"
  },
  "language_info": {
   "codemirror_mode": {
    "name": "ipython",
    "version": 3
   },
   "file_extension": ".py",
   "mimetype": "text/x-python",
   "name": "python",
   "nbconvert_exporter": "python",
   "pygments_lexer": "ipython3",
   "version": "3.9.12"
  }
 },
 "nbformat": 4,
 "nbformat_minor": 5
}
