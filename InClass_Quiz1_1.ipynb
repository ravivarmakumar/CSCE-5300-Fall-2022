{
 "cells": [
  {
   "cell_type": "markdown",
   "id": "beb5cb4b",
   "metadata": {},
   "source": [
    "#### Name: Ravi Varma Kumar Bevara\n",
    "#### Student ID: 11476678"
   ]
  },
  {
   "cell_type": "markdown",
   "id": "d24b140d",
   "metadata": {},
   "source": [
    "# Question 1\n",
    "\n",
    "A). Calculate and print the area of a circle of diameter 10 cm to three decimal places.        (0.5 pts). Use math.pi for the value of pi in this problem. "
   ]
  },
  {
   "cell_type": "code",
   "execution_count": 1,
   "id": "9167ee23",
   "metadata": {},
   "outputs": [
    {
     "data": {
      "text/plain": [
       "78.54"
      ]
     },
     "execution_count": 1,
     "metadata": {},
     "output_type": "execute_result"
    }
   ],
   "source": [
    "import math\n",
    "\n",
    "diameter =  10\n",
    "radius = diameter/2\n",
    "area = (math.pi)*(radius**2)\n",
    "round(area,3)"
   ]
  },
  {
   "cell_type": "markdown",
   "id": "b426910a",
   "metadata": {},
   "source": [
    "B). Write a for loop that prints all odd numbers from 3 and 17 (0.5 pts)"
   ]
  },
  {
   "cell_type": "code",
   "execution_count": 2,
   "id": "3def5ad9",
   "metadata": {},
   "outputs": [
    {
     "name": "stdout",
     "output_type": "stream",
     "text": [
      "3\n",
      "5\n",
      "7\n",
      "9\n",
      "11\n",
      "13\n",
      "15\n",
      "17\n"
     ]
    }
   ],
   "source": [
    "for i in range(3,18):\n",
    "    if i%2 != 0:\n",
    "        print(i)"
   ]
  },
  {
   "cell_type": "markdown",
   "id": "39a77dcb",
   "metadata": {},
   "source": [
    "C). Write a function which takes an integer as its parameter and prints (1 pts.)     \n",
    "   * “Greater than 10” if var is greater than 10,\n",
    "   * “Less than 10” if var is less than 10"
   ]
  },
  {
   "cell_type": "code",
   "execution_count": 3,
   "id": "a53bd07b",
   "metadata": {},
   "outputs": [],
   "source": [
    "def check(x):\n",
    "    if x>10:\n",
    "        print(\"Greather than 10\")\n",
    "    else:\n",
    "        print(\"Less than 10\")"
   ]
  },
  {
   "cell_type": "code",
   "execution_count": 4,
   "id": "12b5e650",
   "metadata": {},
   "outputs": [
    {
     "name": "stdout",
     "output_type": "stream",
     "text": [
      "Less than 10\n"
     ]
    }
   ],
   "source": [
    "check(7)"
   ]
  },
  {
   "cell_type": "code",
   "execution_count": 5,
   "id": "5b641583",
   "metadata": {},
   "outputs": [
    {
     "name": "stdout",
     "output_type": "stream",
     "text": [
      "Greather than 10\n"
     ]
    }
   ],
   "source": [
    "check(15)"
   ]
  }
 ],
 "metadata": {
  "kernelspec": {
   "display_name": "Python 3 (ipykernel)",
   "language": "python",
   "name": "python3"
  },
  "language_info": {
   "codemirror_mode": {
    "name": "ipython",
    "version": 3
   },
   "file_extension": ".py",
   "mimetype": "text/x-python",
   "name": "python",
   "nbconvert_exporter": "python",
   "pygments_lexer": "ipython3",
   "version": "3.9.12"
  }
 },
 "nbformat": 4,
 "nbformat_minor": 5
}
