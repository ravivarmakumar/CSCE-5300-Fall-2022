{
 "cells": [
  {
   "cell_type": "markdown",
   "id": "da969d82",
   "metadata": {},
   "source": [
    "# Assignment 1"
   ]
  },
  {
   "cell_type": "markdown",
   "id": "3f96fe63",
   "metadata": {},
   "source": [
    "### Part 1: Basic Python Syntax (0.2 pts per item, total 1.6 pts.)"
   ]
  },
  {
   "cell_type": "markdown",
   "id": "81d0cf0d",
   "metadata": {},
   "source": [
    "##### 1. Create a variable, var, and set the value to the string “Hello, world!”."
   ]
  },
  {
   "cell_type": "code",
   "execution_count": 1,
   "id": "13e34ce8",
   "metadata": {},
   "outputs": [],
   "source": [
    "var = \"Hello, world!\""
   ]
  },
  {
   "cell_type": "code",
   "execution_count": 2,
   "id": "cf43d5cc",
   "metadata": {},
   "outputs": [
    {
     "data": {
      "text/plain": [
       "'Hello, world!'"
      ]
     },
     "execution_count": 2,
     "metadata": {},
     "output_type": "execute_result"
    }
   ],
   "source": [
    "var"
   ]
  },
  {
   "cell_type": "markdown",
   "id": "30566504",
   "metadata": {},
   "source": [
    "##### 2. Now print the length of var."
   ]
  },
  {
   "cell_type": "code",
   "execution_count": 3,
   "id": "221a56b9",
   "metadata": {},
   "outputs": [
    {
     "name": "stdout",
     "output_type": "stream",
     "text": [
      "13\n"
     ]
    }
   ],
   "source": [
    "print(len(var))"
   ]
  },
  {
   "cell_type": "markdown",
   "id": "e8108550",
   "metadata": {},
   "source": [
    "##### 3. Extract “world” from var using string index slicing."
   ]
  },
  {
   "cell_type": "code",
   "execution_count": 4,
   "id": "6a3907de",
   "metadata": {},
   "outputs": [
    {
     "name": "stdout",
     "output_type": "stream",
     "text": [
      "world\n"
     ]
    }
   ],
   "source": [
    "print(var[7:12])"
   ]
  },
  {
   "cell_type": "markdown",
   "id": "72d20658",
   "metadata": {},
   "source": [
    "##### 4. Print the types for 1, 1.0, and “1” and note how they differ."
   ]
  },
  {
   "cell_type": "code",
   "execution_count": 5,
   "id": "0440be8d",
   "metadata": {},
   "outputs": [
    {
     "name": "stdout",
     "output_type": "stream",
     "text": [
      "<class 'int'>\n"
     ]
    }
   ],
   "source": [
    "print(type(1))"
   ]
  },
  {
   "cell_type": "code",
   "execution_count": 6,
   "id": "25ed20c4",
   "metadata": {},
   "outputs": [
    {
     "name": "stdout",
     "output_type": "stream",
     "text": [
      "<class 'float'>\n"
     ]
    }
   ],
   "source": [
    "print(type(1.0))"
   ]
  },
  {
   "cell_type": "code",
   "execution_count": 7,
   "id": "a073d25e",
   "metadata": {},
   "outputs": [
    {
     "name": "stdout",
     "output_type": "stream",
     "text": [
      "<class 'str'>\n"
     ]
    }
   ],
   "source": [
    "print(type(\"1\"))"
   ]
  },
  {
   "cell_type": "markdown",
   "id": "a0cb5f3d",
   "metadata": {},
   "source": [
    "* Integer ( int ): represents positive or negative whole numbers like 3 or -512. \n",
    "* Floating point number ( float ): represents real numbers like 3.14159 or -2.5. \n",
    "* Character string (usually called “string”, str ): text. Written in either single quotes or double quotes "
   ]
  },
  {
   "cell_type": "markdown",
   "id": "b974c0d0",
   "metadata": {},
   "source": [
    "##### 5. Calculate and print the area of a circle of radius 5 to two decimal places."
   ]
  },
  {
   "cell_type": "code",
   "execution_count": 8,
   "id": "e29fdf15",
   "metadata": {},
   "outputs": [
    {
     "name": "stdout",
     "output_type": "stream",
     "text": [
      "78.54\n"
     ]
    }
   ],
   "source": [
    "import math\n",
    "\n",
    "radius = 5\n",
    "area = (math.pi)*(radius)**2\n",
    "print(round(area,2))"
   ]
  },
  {
   "cell_type": "markdown",
   "id": "3ab7c54e",
   "metadata": {},
   "source": [
    "##### 6. Write a for loop that prints the numbers 9 to 0."
   ]
  },
  {
   "cell_type": "code",
   "execution_count": 9,
   "id": "0df2c22f",
   "metadata": {},
   "outputs": [
    {
     "name": "stdout",
     "output_type": "stream",
     "text": [
      "9\n",
      "8\n",
      "7\n",
      "6\n",
      "5\n",
      "4\n",
      "3\n",
      "2\n",
      "1\n",
      "0\n"
     ]
    }
   ],
   "source": [
    "for i in reversed(range(10)):\n",
    "    print(i)"
   ]
  },
  {
   "cell_type": "markdown",
   "id": "0ee4d315",
   "metadata": {},
   "source": [
    "##### 7. Write a for loop that prints all odd numbers from 9 to 21 including both numbers.\n"
   ]
  },
  {
   "cell_type": "code",
   "execution_count": 10,
   "id": "40bb6d52",
   "metadata": {},
   "outputs": [
    {
     "name": "stdout",
     "output_type": "stream",
     "text": [
      "9\n",
      "11\n",
      "13\n",
      "15\n",
      "17\n",
      "19\n",
      "21\n"
     ]
    }
   ],
   "source": [
    "for i in range(9,22):\n",
    "    if i%2 !=0:\n",
    "        print(i)"
   ]
  },
  {
   "cell_type": "markdown",
   "id": "e5dce751",
   "metadata": {},
   "source": [
    "##### 8. Write an if/else statement that takes a variable var and prints “Greater than 8” if var is greater than 8, “Less than 9” if var is less than 9, “Equal to 10” if var is equal to 10."
   ]
  },
  {
   "cell_type": "code",
   "execution_count": 11,
   "id": "b0ff9a6f",
   "metadata": {},
   "outputs": [],
   "source": [
    "def compare(var):\n",
    "    if var>8 and var!=10:\n",
    "        print(\"Greater than 8\")\n",
    "    elif var<9:\n",
    "        print(\"Less than 9\")\n",
    "    else:\n",
    "        print(\"Equal to 10\")"
   ]
  },
  {
   "cell_type": "code",
   "execution_count": 12,
   "id": "1bd7bd20",
   "metadata": {},
   "outputs": [
    {
     "name": "stdout",
     "output_type": "stream",
     "text": [
      "Greater than 8\n"
     ]
    }
   ],
   "source": [
    "compare(17)"
   ]
  },
  {
   "cell_type": "code",
   "execution_count": 13,
   "id": "ab2cdab7",
   "metadata": {},
   "outputs": [
    {
     "name": "stdout",
     "output_type": "stream",
     "text": [
      "Less than 9\n"
     ]
    }
   ],
   "source": [
    "compare(5)"
   ]
  },
  {
   "cell_type": "code",
   "execution_count": 14,
   "id": "cbcd3cee",
   "metadata": {},
   "outputs": [
    {
     "name": "stdout",
     "output_type": "stream",
     "text": [
      "Equal to 10\n"
     ]
    }
   ],
   "source": [
    "compare(10)"
   ]
  },
  {
   "cell_type": "markdown",
   "id": "023eba3d",
   "metadata": {},
   "source": [
    "### Part 2: Writing functions in Python (0.2 per question, 0.4 pts total)"
   ]
  },
  {
   "cell_type": "markdown",
   "id": "1d03b4ff",
   "metadata": {},
   "source": [
    "##### 1. Write a function which takes an integer array as parameter, converts into a string, and returns the length of the string. "
   ]
  },
  {
   "cell_type": "code",
   "execution_count": 15,
   "id": "f080379b",
   "metadata": {},
   "outputs": [],
   "source": [
    "def convertToString(arr):\n",
    "    string = ''\n",
    "    for i in range(len(arr)):\n",
    "        string += str(i)\n",
    "    return len(string)"
   ]
  },
  {
   "cell_type": "code",
   "execution_count": 16,
   "id": "6fc84b0b",
   "metadata": {},
   "outputs": [
    {
     "data": {
      "text/plain": [
       "8"
      ]
     },
     "execution_count": 16,
     "metadata": {},
     "output_type": "execute_result"
    }
   ],
   "source": [
    "import numpy as np\n",
    "convertToString(np.ndarray(8))"
   ]
  },
  {
   "cell_type": "markdown",
   "id": "6b64ed6f",
   "metadata": {},
   "source": [
    "##### 2. Write a function which takes a positive integer n as its parameter, and prints out all odd numbers from 1 to n."
   ]
  },
  {
   "cell_type": "code",
   "execution_count": 17,
   "id": "a304e13a",
   "metadata": {},
   "outputs": [],
   "source": [
    "def oddNumbers(n):\n",
    "    for i in range(1,n+1):\n",
    "        if i%2!=0:\n",
    "            print(i)            "
   ]
  },
  {
   "cell_type": "code",
   "execution_count": 18,
   "id": "6259b3fb",
   "metadata": {},
   "outputs": [
    {
     "name": "stdout",
     "output_type": "stream",
     "text": [
      "1\n",
      "3\n",
      "5\n",
      "7\n",
      "9\n",
      "11\n"
     ]
    }
   ],
   "source": [
    "oddNumbers(11)"
   ]
  },
  {
   "cell_type": "markdown",
   "id": "8ead94f1",
   "metadata": {},
   "source": [
    "### Part 3: Object Oriented Programming (2 pts.)"
   ]
  },
  {
   "cell_type": "markdown",
   "id": "76b70b09",
   "metadata": {},
   "source": [
    "##### Write a cube class. Replace pass with the appropriate code in the cube class methods that use length of a side. Write the class to set and get perimeter, area, and volume of the cube. Provided below an example with expected output. Implement the class and test the output.\n",
    "\n",
    "* Example: \\\n",
    "c = cube(5)\\\n",
    "c.getPerimeter()\\\n",
    "Perimeter of a cube of side 5 is 60\\\n",
    "c.getArea()\\\n",
    "Area of cube of a side 5 is 150\\\n",
    "c.getVolume()\\\n",
    "Volume of cube of a side 5 is 125"
   ]
  },
  {
   "cell_type": "markdown",
   "id": "eb6b9b36",
   "metadata": {},
   "source": [
    "* Formulae:\\\n",
    "Perimeter of a cube: 12 X side\\\n",
    "Area of Cube: 6 X side*side\\\n",
    "Volume of Cube: side*side*side"
   ]
  },
  {
   "cell_type": "code",
   "execution_count": 38,
   "id": "6b224269",
   "metadata": {},
   "outputs": [],
   "source": [
    "class cube:\n",
    "    \n",
    "    def __init__(self, side):\n",
    "        self.side = side\n",
    "        self.perimeter = 0\n",
    "        self.area = 0\n",
    "        self.volume = 0\n",
    "    \n",
    "    def setPerimeter(self):\n",
    "        self.perimeter = 12*self.side\n",
    "        \n",
    "    def setArea(self):\n",
    "        self.area = 6*self.side*self.side\n",
    "    \n",
    "    def setVolume(self):\n",
    "        self.volume = self.side*self.side*self.side\n",
    "                \n",
    "    def getPerimeter(self):\n",
    "        return self.perimeter\n",
    "    \n",
    "    def getArea(self):\n",
    "        return self.area\n",
    "\n",
    "    def getVolume(self):\n",
    "        return self.volume"
   ]
  },
  {
   "cell_type": "code",
   "execution_count": 39,
   "id": "41d8aec2",
   "metadata": {},
   "outputs": [
    {
     "data": {
      "text/plain": [
       "84"
      ]
     },
     "execution_count": 39,
     "metadata": {},
     "output_type": "execute_result"
    }
   ],
   "source": [
    "testobj = cube(7)\n",
    "testobj.setPerimeter()\n",
    "testobj.getPerimeter()"
   ]
  },
  {
   "cell_type": "code",
   "execution_count": 40,
   "id": "02aafc94",
   "metadata": {},
   "outputs": [
    {
     "data": {
      "text/plain": [
       "294"
      ]
     },
     "execution_count": 40,
     "metadata": {},
     "output_type": "execute_result"
    }
   ],
   "source": [
    "testobj.setArea()\n",
    "testobj.getArea()"
   ]
  },
  {
   "cell_type": "code",
   "execution_count": 41,
   "id": "deaecaca",
   "metadata": {},
   "outputs": [
    {
     "data": {
      "text/plain": [
       "343"
      ]
     },
     "execution_count": 41,
     "metadata": {},
     "output_type": "execute_result"
    }
   ],
   "source": [
    "testobj.setVolume()\n",
    "testobj.getVolume()"
   ]
  }
 ],
 "metadata": {
  "kernelspec": {
   "display_name": "Python 3 (ipykernel)",
   "language": "python",
   "name": "python3"
  },
  "language_info": {
   "codemirror_mode": {
    "name": "ipython",
    "version": 3
   },
   "file_extension": ".py",
   "mimetype": "text/x-python",
   "name": "python",
   "nbconvert_exporter": "python",
   "pygments_lexer": "ipython3",
   "version": "3.9.12"
  }
 },
 "nbformat": 4,
 "nbformat_minor": 5
}
